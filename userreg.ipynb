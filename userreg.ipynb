{
 "cells": [
  {
   "cell_type": "markdown",
   "id": "ab045f04",
   "metadata": {},
   "source": [
    "Simple UserReg Model Evaluation"
   ]
  },
  {
   "cell_type": "code",
   "execution_count": 19,
   "id": "f2c7e8b4",
   "metadata": {},
   "outputs": [
    {
     "name": "stdout",
     "output_type": "stream",
     "text": [
      "Train shape: (610, 4980), Test shape: (610, 4980)\n"
     ]
    },
    {
     "name": "stderr",
     "output_type": "stream",
     "text": [
      "Training UserReg: 100%|██████████| 1/1 [00:00<00:00,  1.31it/s]\n"
     ]
    },
    {
     "name": "stdout",
     "output_type": "stream",
     "text": [
      "Test RMSE: 0.9934\n"
     ]
    },
    {
     "name": "stderr",
     "output_type": "stream",
     "text": [
      "Training UserReg: 100%|██████████| 3/3 [00:02<00:00,  1.32it/s]\n"
     ]
    },
    {
     "name": "stdout",
     "output_type": "stream",
     "text": [
      "Test RMSE: 0.9266\n"
     ]
    },
    {
     "name": "stderr",
     "output_type": "stream",
     "text": [
      "Training UserReg: 100%|██████████| 5/5 [00:02<00:00,  1.75it/s]\n"
     ]
    },
    {
     "name": "stdout",
     "output_type": "stream",
     "text": [
      "Test RMSE: 0.9076\n"
     ]
    },
    {
     "name": "stderr",
     "output_type": "stream",
     "text": [
      "Training UserReg: 100%|██████████| 7/7 [00:03<00:00,  2.14it/s]\n"
     ]
    },
    {
     "name": "stdout",
     "output_type": "stream",
     "text": [
      "Test RMSE: 0.8980\n"
     ]
    },
    {
     "name": "stderr",
     "output_type": "stream",
     "text": [
      "Training UserReg:  33%|███▎      | 3/9 [00:01<00:03,  1.92it/s]\n"
     ]
    },
    {
     "ename": "KeyboardInterrupt",
     "evalue": "",
     "output_type": "error",
     "traceback": [
      "\u001b[31m---------------------------------------------------------------------------\u001b[39m",
      "\u001b[31mKeyboardInterrupt\u001b[39m                         Traceback (most recent call last)",
      "\u001b[36mCell\u001b[39m\u001b[36m \u001b[39m\u001b[32mIn[19]\u001b[39m\u001b[32m, line 18\u001b[39m\n\u001b[32m     14\u001b[39m model = UserReg(k=\u001b[32m8\u001b[39m, lr=\u001b[32m0.01\u001b[39m, lambda_reg=\u001b[32m0.02\u001b[39m, beta_reg=\u001b[32m8.0\u001b[39m, bias_init=\u001b[33m\"\u001b[39m\u001b[33mmedium_adapted_mean\u001b[39m\u001b[33m\"\u001b[39m, num_iterations=\u001b[38;5;28miter\u001b[39m)\n\u001b[32m     17\u001b[39m \u001b[38;5;66;03m# Fit on training data\u001b[39;00m\n\u001b[32m---> \u001b[39m\u001b[32m18\u001b[39m \u001b[43mmodel\u001b[49m\u001b[43m.\u001b[49m\u001b[43mfit\u001b[49m\u001b[43m(\u001b[49m\u001b[43mR_train\u001b[49m\u001b[43m)\u001b[49m\n\u001b[32m     20\u001b[39m \u001b[38;5;66;03m# Predict full matrix\u001b[39;00m\n\u001b[32m     21\u001b[39m preds = model.predict()\n",
      "\u001b[36mFile \u001b[39m\u001b[32m~/Documents/Code/DataScience Lab1/assignment1-2025-circuit-virtuel/userreg.py:102\u001b[39m, in \u001b[36mUserReg.fit\u001b[39m\u001b[34m(self, R)\u001b[39m\n\u001b[32m     99\u001b[39m mean_Q = np.mean(\u001b[38;5;28mself\u001b[39m.Q[Iu, :], axis=\u001b[32m0\u001b[39m)\n\u001b[32m    100\u001b[39m \u001b[38;5;28;01mfor\u001b[39;00m i \u001b[38;5;129;01min\u001b[39;00m Iu:\n\u001b[32m    101\u001b[39m     e_ui = R_filled[u, i] - (\n\u001b[32m--> \u001b[39m\u001b[32m102\u001b[39m         \u001b[38;5;28mself\u001b[39m.bu[u] + \u001b[38;5;28mself\u001b[39m.bi[i] + \u001b[43mnp\u001b[49m\u001b[43m.\u001b[49m\u001b[43mdot\u001b[49m\u001b[43m(\u001b[49m\u001b[38;5;28;43mself\u001b[39;49m\u001b[43m.\u001b[49m\u001b[43mP\u001b[49m\u001b[43m[\u001b[49m\u001b[43mu\u001b[49m\u001b[43m]\u001b[49m\u001b[43m,\u001b[49m\u001b[43m \u001b[49m\u001b[38;5;28;43mself\u001b[39;49m\u001b[43m.\u001b[49m\u001b[43mQ\u001b[49m\u001b[43m[\u001b[49m\u001b[43mi\u001b[49m\u001b[43m]\u001b[49m\u001b[43m)\u001b[49m\n\u001b[32m    103\u001b[39m     )\n\u001b[32m    105\u001b[39m     \u001b[38;5;66;03m# Update biases\u001b[39;00m\n\u001b[32m    106\u001b[39m     \u001b[38;5;28mself\u001b[39m.bu[u] += \u001b[38;5;28mself\u001b[39m.lr * (e_ui - \u001b[38;5;28mself\u001b[39m.lambda_reg * \u001b[38;5;28mself\u001b[39m.bu[u])\n",
      "\u001b[36mFile \u001b[39m\u001b[32m~/Documents/Code/DataScience Lab1/assignment1-2025-circuit-virtuel/datascience_lab_1/lib/python3.12/site-packages/numpy/_core/multiarray.py:769\u001b[39m, in \u001b[36mdot\u001b[39m\u001b[34m(a, b, out)\u001b[39m\n\u001b[32m    700\u001b[39m \u001b[38;5;250m    \u001b[39m\u001b[33;03m\"\"\"\u001b[39;00m\n\u001b[32m    701\u001b[39m \u001b[33;03m    result_type(*arrays_and_dtypes)\u001b[39;00m\n\u001b[32m    702\u001b[39m \n\u001b[32m   (...)\u001b[39m\u001b[32m    764\u001b[39m \n\u001b[32m    765\u001b[39m \u001b[33;03m    \"\"\"\u001b[39;00m\n\u001b[32m    766\u001b[39m     \u001b[38;5;28;01mreturn\u001b[39;00m arrays_and_dtypes\n\u001b[32m--> \u001b[39m\u001b[32m769\u001b[39m \u001b[38;5;129m@array_function_from_c_func_and_dispatcher\u001b[39m(_multiarray_umath.dot)\n\u001b[32m    770\u001b[39m \u001b[38;5;28;01mdef\u001b[39;00m\u001b[38;5;250m \u001b[39m\u001b[34mdot\u001b[39m(a, b, out=\u001b[38;5;28;01mNone\u001b[39;00m):\n\u001b[32m    771\u001b[39m \u001b[38;5;250m    \u001b[39m\u001b[33;03m\"\"\"\u001b[39;00m\n\u001b[32m    772\u001b[39m \u001b[33;03m    dot(a, b, out=None)\u001b[39;00m\n\u001b[32m    773\u001b[39m \n\u001b[32m   (...)\u001b[39m\u001b[32m    859\u001b[39m \n\u001b[32m    860\u001b[39m \u001b[33;03m    \"\"\"\u001b[39;00m\n\u001b[32m    861\u001b[39m     \u001b[38;5;28;01mreturn\u001b[39;00m (a, b, out)\n",
      "\u001b[31mKeyboardInterrupt\u001b[39m: "
     ]
    }
   ],
   "source": [
    "import numpy as np\n",
    "import pandas as pd\n",
    "from userreg import UserReg\n",
    "from userreg import WUserReg\n",
    "\n",
    "#Classic UserReg model evaluation\n",
    "# Load train/test splits\n",
    "R_train = np.load(\"data/ratings_train.npy\")\n",
    "R_test = np.load(\"data/ratings_test.npy\")\n",
    "\n",
    "print(f\"Train shape: {R_train.shape}, Test shape: {R_test.shape}\")\n",
    "\n",
    "for iter in range (1, 31, 2):\n",
    "    model = UserReg(k=8, lr=0.01, lambda_reg=0.02, beta_reg=8.0, bias_init=\"medium_adapted_mean\", num_iterations=iter)\n",
    "\n",
    "\n",
    "    # Fit on training data\n",
    "    model.fit(R_train)\n",
    "\n",
    "    # Predict full matrix\n",
    "    preds = model.predict()\n",
    "\n",
    "    # Evaluate only on test entries that are not NaN\n",
    "    mask_test = ~np.isnan(R_test)\n",
    "    true_values = R_test[mask_test]\n",
    "    pred_values = preds[mask_test]\n",
    "    pred_values = np.clip(pred_values, 1, 5)\n",
    "\n",
    "    # Compute RMSE\n",
    "    rmse = np.sqrt(np.mean((true_values - pred_values) ** 2))\n",
    "    print(f\"Test RMSE: {rmse:.4f}\")\n"
   ]
  },
  {
   "cell_type": "markdown",
   "id": "0b3c7d3d",
   "metadata": {},
   "source": [
    "Simple UserReg with pre-ratings-normalization and post-denormalization"
   ]
  },
  {
   "cell_type": "code",
   "execution_count": 20,
   "id": "179f29d1",
   "metadata": {},
   "outputs": [
    {
     "name": "stdout",
     "output_type": "stream",
     "text": [
      "Train shape: (610, 4980), Test shape: (610, 4980)\n",
      "Starting global rating normalization on dense matrix...\n",
      "Global Mean: 3.52, Global Std Dev: 1.03\n",
      "Normalization complete.\n"
     ]
    },
    {
     "name": "stderr",
     "output_type": "stream",
     "text": [
      "Training UserReg: 100%|██████████| 1/1 [00:00<00:00,  1.35it/s]\n"
     ]
    },
    {
     "name": "stdout",
     "output_type": "stream",
     "text": [
      "\n",
      "Starting global denormalization...\n",
      "Denormalization complete.\n",
      "Test RMSE: 0.9620\n",
      "Starting global rating normalization on dense matrix...\n",
      "Global Mean: 3.52, Global Std Dev: 1.03\n",
      "Normalization complete.\n"
     ]
    },
    {
     "name": "stderr",
     "output_type": "stream",
     "text": [
      "Training UserReg: 100%|██████████| 3/3 [00:02<00:00,  1.35it/s]\n"
     ]
    },
    {
     "name": "stdout",
     "output_type": "stream",
     "text": [
      "\n",
      "Starting global denormalization...\n",
      "Denormalization complete.\n",
      "Test RMSE: 0.9202\n",
      "Starting global rating normalization on dense matrix...\n",
      "Global Mean: 3.52, Global Std Dev: 1.03\n",
      "Normalization complete.\n"
     ]
    },
    {
     "name": "stderr",
     "output_type": "stream",
     "text": [
      "Training UserReg: 100%|██████████| 5/5 [00:03<00:00,  1.35it/s]\n"
     ]
    },
    {
     "name": "stdout",
     "output_type": "stream",
     "text": [
      "\n",
      "Starting global denormalization...\n",
      "Denormalization complete.\n",
      "Test RMSE: 0.9053\n",
      "Starting global rating normalization on dense matrix...\n",
      "Global Mean: 3.52, Global Std Dev: 1.03\n",
      "Normalization complete.\n"
     ]
    },
    {
     "name": "stderr",
     "output_type": "stream",
     "text": [
      "Training UserReg: 100%|██████████| 7/7 [00:03<00:00,  2.18it/s]\n"
     ]
    },
    {
     "name": "stdout",
     "output_type": "stream",
     "text": [
      "\n",
      "Starting global denormalization...\n",
      "Denormalization complete.\n",
      "Test RMSE: 0.8972\n",
      "Starting global rating normalization on dense matrix...\n",
      "Global Mean: 3.52, Global Std Dev: 1.03\n",
      "Normalization complete.\n"
     ]
    },
    {
     "name": "stderr",
     "output_type": "stream",
     "text": [
      "Training UserReg: 100%|██████████| 9/9 [00:04<00:00,  2.19it/s]\n"
     ]
    },
    {
     "name": "stdout",
     "output_type": "stream",
     "text": [
      "\n",
      "Starting global denormalization...\n",
      "Denormalization complete.\n",
      "Test RMSE: 0.8921\n",
      "Starting global rating normalization on dense matrix...\n",
      "Global Mean: 3.52, Global Std Dev: 1.03\n",
      "Normalization complete.\n"
     ]
    },
    {
     "name": "stderr",
     "output_type": "stream",
     "text": [
      "Training UserReg: 100%|██████████| 11/11 [00:05<00:00,  2.07it/s]\n"
     ]
    },
    {
     "name": "stdout",
     "output_type": "stream",
     "text": [
      "\n",
      "Starting global denormalization...\n",
      "Denormalization complete.\n",
      "Test RMSE: 0.8887\n",
      "Starting global rating normalization on dense matrix...\n",
      "Global Mean: 3.52, Global Std Dev: 1.03\n",
      "Normalization complete.\n"
     ]
    },
    {
     "name": "stderr",
     "output_type": "stream",
     "text": [
      "Training UserReg: 100%|██████████| 13/13 [00:05<00:00,  2.19it/s]\n"
     ]
    },
    {
     "name": "stdout",
     "output_type": "stream",
     "text": [
      "\n",
      "Starting global denormalization...\n",
      "Denormalization complete.\n",
      "Test RMSE: 0.8863\n",
      "Starting global rating normalization on dense matrix...\n",
      "Global Mean: 3.52, Global Std Dev: 1.03\n",
      "Normalization complete.\n"
     ]
    },
    {
     "name": "stderr",
     "output_type": "stream",
     "text": [
      "Training UserReg: 100%|██████████| 15/15 [00:07<00:00,  2.14it/s]\n"
     ]
    },
    {
     "name": "stdout",
     "output_type": "stream",
     "text": [
      "\n",
      "Starting global denormalization...\n",
      "Denormalization complete.\n",
      "Test RMSE: 0.8846\n",
      "Starting global rating normalization on dense matrix...\n",
      "Global Mean: 3.52, Global Std Dev: 1.03\n",
      "Normalization complete.\n"
     ]
    },
    {
     "name": "stderr",
     "output_type": "stream",
     "text": [
      "Training UserReg: 100%|██████████| 17/17 [00:07<00:00,  2.15it/s]\n"
     ]
    },
    {
     "name": "stdout",
     "output_type": "stream",
     "text": [
      "\n",
      "Starting global denormalization...\n",
      "Denormalization complete.\n",
      "Test RMSE: 0.8834\n",
      "Starting global rating normalization on dense matrix...\n",
      "Global Mean: 3.52, Global Std Dev: 1.03\n",
      "Normalization complete.\n"
     ]
    },
    {
     "name": "stderr",
     "output_type": "stream",
     "text": [
      "Training UserReg: 100%|██████████| 19/19 [00:08<00:00,  2.17it/s]\n"
     ]
    },
    {
     "name": "stdout",
     "output_type": "stream",
     "text": [
      "\n",
      "Starting global denormalization...\n",
      "Denormalization complete.\n",
      "Test RMSE: 0.8825\n",
      "Starting global rating normalization on dense matrix...\n",
      "Global Mean: 3.52, Global Std Dev: 1.03\n",
      "Normalization complete.\n"
     ]
    },
    {
     "name": "stderr",
     "output_type": "stream",
     "text": [
      "Training UserReg: 100%|██████████| 21/21 [00:09<00:00,  2.15it/s]\n"
     ]
    },
    {
     "name": "stdout",
     "output_type": "stream",
     "text": [
      "\n",
      "Starting global denormalization...\n",
      "Denormalization complete.\n",
      "Test RMSE: 0.8819\n",
      "Starting global rating normalization on dense matrix...\n",
      "Global Mean: 3.52, Global Std Dev: 1.03\n",
      "Normalization complete.\n"
     ]
    },
    {
     "name": "stderr",
     "output_type": "stream",
     "text": [
      "Training UserReg: 100%|██████████| 23/23 [00:10<00:00,  2.11it/s]\n"
     ]
    },
    {
     "name": "stdout",
     "output_type": "stream",
     "text": [
      "\n",
      "Starting global denormalization...\n",
      "Denormalization complete.\n",
      "Test RMSE: 0.8814\n",
      "Starting global rating normalization on dense matrix...\n",
      "Global Mean: 3.52, Global Std Dev: 1.03\n",
      "Normalization complete.\n"
     ]
    },
    {
     "name": "stderr",
     "output_type": "stream",
     "text": [
      "Training UserReg: 100%|██████████| 25/25 [00:11<00:00,  2.12it/s]\n"
     ]
    },
    {
     "name": "stdout",
     "output_type": "stream",
     "text": [
      "\n",
      "Starting global denormalization...\n",
      "Denormalization complete.\n",
      "Test RMSE: 0.8811\n",
      "Starting global rating normalization on dense matrix...\n",
      "Global Mean: 3.52, Global Std Dev: 1.03\n",
      "Normalization complete.\n"
     ]
    },
    {
     "name": "stderr",
     "output_type": "stream",
     "text": [
      "Training UserReg: 100%|██████████| 27/27 [00:12<00:00,  2.14it/s]\n"
     ]
    },
    {
     "name": "stdout",
     "output_type": "stream",
     "text": [
      "\n",
      "Starting global denormalization...\n",
      "Denormalization complete.\n",
      "Test RMSE: 0.8810\n",
      "Starting global rating normalization on dense matrix...\n",
      "Global Mean: 3.52, Global Std Dev: 1.03\n",
      "Normalization complete.\n"
     ]
    },
    {
     "name": "stderr",
     "output_type": "stream",
     "text": [
      "Training UserReg: 100%|██████████| 29/29 [00:13<00:00,  2.16it/s]"
     ]
    },
    {
     "name": "stdout",
     "output_type": "stream",
     "text": [
      "\n",
      "Starting global denormalization...\n",
      "Denormalization complete.\n",
      "Test RMSE: 0.8809\n"
     ]
    },
    {
     "name": "stderr",
     "output_type": "stream",
     "text": [
      "\n"
     ]
    }
   ],
   "source": [
    "import numpy as np\n",
    "import pandas as pd\n",
    "from userreg import UserReg\n",
    "from userreg import WUserReg\n",
    "from functions.normalization import normalize_ratings, denormalize_predictions\n",
    "\n",
    "#Classic UserReg model evaluation\n",
    "# Load train/test splits\n",
    "R_train = np.load(\"data/ratings_train.npy\")\n",
    "R_test = np.load(\"data/ratings_test.npy\")\n",
    "\n",
    "print(f\"Train shape: {R_train.shape}, Test shape: {R_test.shape}\")\n",
    "\n",
    "for iter in range (1, 31, 2):\n",
    "    model = UserReg(k=8, lr=0.01, lambda_reg=0.02, beta_reg=8.0, bias_init=\"medium_adapted_mean\", num_iterations=iter)\n",
    "\n",
    "    R_train_normalized, stats = normalize_ratings(R_train)\n",
    "\n",
    "    model.fit(R_train_normalized)\n",
    "    preds = model.predict()\n",
    "\n",
    "    denormalized_preds = denormalize_predictions(preds, stats)\n",
    "\n",
    "    # Evaluate only on test entries that are not NaN\n",
    "    mask_test = ~np.isnan(R_test)\n",
    "    true_values = R_test[mask_test]\n",
    "    pred_values = denormalized_preds[mask_test]\n",
    "    pred_values = np.clip(pred_values, 0.5, 5)\n",
    "\n",
    "    \"\"\"print(R_train_normalized[:5, :5])\n",
    "    print(preds[:5, :5])\n",
    "    print(true_values[:10])\"\"\"\n",
    "\n",
    "    # Compute RMSE\n",
    "    rmse = np.sqrt(np.mean((true_values - pred_values) ** 2))\n",
    "    print(f\"Test RMSE: {rmse:.4f}\")\n"
   ]
  },
  {
   "cell_type": "markdown",
   "id": "c771f9fe",
   "metadata": {},
   "source": [
    "WUserReg Model Evaluation"
   ]
  },
  {
   "cell_type": "code",
   "execution_count": null,
   "id": "9cee278e",
   "metadata": {},
   "outputs": [
    {
     "name": "stdout",
     "output_type": "stream",
     "text": [
      "Train shape: (610, 4980), Test shape: (610, 4980)\n",
      "Found 31598 total ratings.\n",
      "Average un-normalized weight (w'_avg): 0.4743\n"
     ]
    },
    {
     "name": "stderr",
     "output_type": "stream",
     "text": [
      "Training UserReg: 100%|██████████| 12/12 [00:10<00:00,  1.12it/s]"
     ]
    },
    {
     "name": "stdout",
     "output_type": "stream",
     "text": [
      "Test RMSE: 0.9255\n"
     ]
    },
    {
     "name": "stderr",
     "output_type": "stream",
     "text": [
      "\n"
     ]
    }
   ],
   "source": [
    "from userreg import WUserReg\n",
    "\n",
    "# Load train/test splits\n",
    "R_train = np.load(\"data/ratings_train.npy\")\n",
    "R_test = np.load(\"data/ratings_test.npy\")\n",
    "\n",
    "print(f\"Train shape: {R_train.shape}, Test shape: {R_test.shape}\")\n",
    "\n",
    "model2 = WUserReg(k=8, lr=0.01, lambda_reg=0.02, beta_reg=8.0, bias_init=\"medium_adapted_mean\", num_iterations=12,\n",
    "                  alpha1=0, alpha2=0.2, m1=15, m2=25)\n",
    "\n",
    "\n",
    "# Fit on training data\n",
    "model2.fit(R_train)\n",
    "\n",
    "# Predict full matrix\n",
    "preds2 = model2.predict()\n",
    "\n",
    "\n",
    "# Evaluate only on test entries that are not NaN\n",
    "mask_test2 = ~np.isnan(R_test)\n",
    "true_values2 = R_test[mask_test2]\n",
    "pred_values2 = preds2[mask_test2]\n",
    "\n",
    "\n",
    "# Compute RMSE\n",
    "rmse2 = np.sqrt(np.mean((true_values2 - pred_values2) ** 2))\n",
    "print(f\"Test RMSE: {rmse2:.4f}\")\n"
   ]
  },
  {
   "cell_type": "markdown",
   "id": "747f813d",
   "metadata": {},
   "source": [
    "Grid search for weights parameters for WUserReg"
   ]
  },
  {
   "cell_type": "code",
   "execution_count": null,
   "id": "c5244a7c",
   "metadata": {},
   "outputs": [
    {
     "name": "stdout",
     "output_type": "stream",
     "text": [
      "(1/36)\n",
      "Applying WANNLS matrix factorization with alpha1=0, alpha2=0, m1=10, m2=16...\n",
      "Found 31598 total ratings.\n",
      "Average un-normalized weight (w'_avg): 1.0000\n"
     ]
    },
    {
     "name": "stderr",
     "output_type": "stream",
     "text": [
      "Training UserReg: 100%|██████████| 10/10 [00:09<00:00,  1.10it/s]\n"
     ]
    },
    {
     "name": "stdout",
     "output_type": "stream",
     "text": [
      "Test RMSE: 0.8902\n",
      "  *** NEW BEST MODEL ***\n",
      "(2/36)\n",
      "Applying WANNLS matrix factorization with alpha1=0, alpha2=0, m1=10, m2=25...\n",
      "Found 31598 total ratings.\n",
      "Average un-normalized weight (w'_avg): 1.0000\n"
     ]
    },
    {
     "name": "stderr",
     "output_type": "stream",
     "text": [
      "Training UserReg: 100%|██████████| 10/10 [00:08<00:00,  1.12it/s]\n"
     ]
    },
    {
     "name": "stdout",
     "output_type": "stream",
     "text": [
      "Test RMSE: 0.8902\n",
      "(3/36)\n",
      "Applying WANNLS matrix factorization with alpha1=0, alpha2=0, m1=20, m2=16...\n",
      "Found 31598 total ratings.\n",
      "Average un-normalized weight (w'_avg): 1.0000\n"
     ]
    },
    {
     "name": "stderr",
     "output_type": "stream",
     "text": [
      "Training UserReg: 100%|██████████| 10/10 [00:09<00:00,  1.11it/s]\n"
     ]
    },
    {
     "name": "stdout",
     "output_type": "stream",
     "text": [
      "Test RMSE: 0.8902\n",
      "(4/36)\n",
      "Applying WANNLS matrix factorization with alpha1=0, alpha2=0, m1=20, m2=25...\n",
      "Found 31598 total ratings.\n",
      "Average un-normalized weight (w'_avg): 1.0000\n"
     ]
    },
    {
     "name": "stderr",
     "output_type": "stream",
     "text": [
      "Training UserReg: 100%|██████████| 10/10 [00:08<00:00,  1.12it/s]\n"
     ]
    },
    {
     "name": "stdout",
     "output_type": "stream",
     "text": [
      "Test RMSE: 0.8902\n",
      "(5/36)\n",
      "Applying WANNLS matrix factorization with alpha1=0, alpha2=0.15, m1=10, m2=16...\n",
      "Found 31598 total ratings.\n",
      "Average un-normalized weight (w'_avg): 0.5948\n"
     ]
    },
    {
     "name": "stderr",
     "output_type": "stream",
     "text": [
      "Training UserReg: 100%|██████████| 10/10 [00:08<00:00,  1.12it/s]\n"
     ]
    },
    {
     "name": "stdout",
     "output_type": "stream",
     "text": [
      "Test RMSE: 0.9205\n",
      "(6/36)\n",
      "Applying WANNLS matrix factorization with alpha1=0, alpha2=0.15, m1=10, m2=25...\n",
      "Found 31598 total ratings.\n",
      "Average un-normalized weight (w'_avg): 0.5712\n"
     ]
    },
    {
     "name": "stderr",
     "output_type": "stream",
     "text": [
      "Training UserReg: 100%|██████████| 10/10 [00:08<00:00,  1.12it/s]\n"
     ]
    },
    {
     "name": "stdout",
     "output_type": "stream",
     "text": [
      "Test RMSE: 0.9098\n",
      "(7/36)\n",
      "Applying WANNLS matrix factorization with alpha1=0, alpha2=0.15, m1=20, m2=16...\n",
      "Found 31598 total ratings.\n",
      "Average un-normalized weight (w'_avg): 0.5948\n"
     ]
    },
    {
     "name": "stderr",
     "output_type": "stream",
     "text": [
      "Training UserReg: 100%|██████████| 10/10 [00:09<00:00,  1.10it/s]\n"
     ]
    },
    {
     "name": "stdout",
     "output_type": "stream",
     "text": [
      "Test RMSE: 0.9205\n",
      "(8/36)\n",
      "Applying WANNLS matrix factorization with alpha1=0, alpha2=0.15, m1=20, m2=25...\n",
      "Found 31598 total ratings.\n",
      "Average un-normalized weight (w'_avg): 0.5712\n"
     ]
    },
    {
     "name": "stderr",
     "output_type": "stream",
     "text": [
      "Training UserReg: 100%|██████████| 10/10 [00:09<00:00,  1.10it/s]\n"
     ]
    },
    {
     "name": "stdout",
     "output_type": "stream",
     "text": [
      "Test RMSE: 0.9098\n",
      "(9/36)\n",
      "Applying WANNLS matrix factorization with alpha1=0, alpha2=0.25, m1=10, m2=16...\n",
      "Found 31598 total ratings.\n",
      "Average un-normalized weight (w'_avg): 0.4218\n"
     ]
    },
    {
     "name": "stderr",
     "output_type": "stream",
     "text": [
      "Training UserReg: 100%|██████████| 10/10 [00:08<00:00,  1.12it/s]\n"
     ]
    },
    {
     "name": "stdout",
     "output_type": "stream",
     "text": [
      "Test RMSE: 0.9827\n",
      "(10/36)\n",
      "Applying WANNLS matrix factorization with alpha1=0, alpha2=0.25, m1=10, m2=25...\n",
      "Found 31598 total ratings.\n",
      "Average un-normalized weight (w'_avg): 0.3940\n"
     ]
    },
    {
     "name": "stderr",
     "output_type": "stream",
     "text": [
      "Training UserReg: 100%|██████████| 10/10 [00:09<00:00,  1.11it/s]\n"
     ]
    },
    {
     "name": "stdout",
     "output_type": "stream",
     "text": [
      "Test RMSE: 0.9504\n",
      "(11/36)\n",
      "Applying WANNLS matrix factorization with alpha1=0, alpha2=0.25, m1=20, m2=16...\n",
      "Found 31598 total ratings.\n",
      "Average un-normalized weight (w'_avg): 0.4218\n"
     ]
    },
    {
     "name": "stderr",
     "output_type": "stream",
     "text": [
      "Training UserReg: 100%|██████████| 10/10 [00:09<00:00,  1.11it/s]\n"
     ]
    },
    {
     "name": "stdout",
     "output_type": "stream",
     "text": [
      "Test RMSE: 0.9827\n",
      "(12/36)\n",
      "Applying WANNLS matrix factorization with alpha1=0, alpha2=0.25, m1=20, m2=25...\n",
      "Found 31598 total ratings.\n",
      "Average un-normalized weight (w'_avg): 0.3940\n"
     ]
    },
    {
     "name": "stderr",
     "output_type": "stream",
     "text": [
      "Training UserReg: 100%|██████████| 10/10 [00:09<00:00,  1.10it/s]\n"
     ]
    },
    {
     "name": "stdout",
     "output_type": "stream",
     "text": [
      "Test RMSE: 0.9504\n",
      "(13/36)\n",
      "Applying WANNLS matrix factorization with alpha1=0.15, alpha2=0, m1=10, m2=16...\n",
      "Found 31598 total ratings.\n",
      "Average un-normalized weight (w'_avg): 0.4941\n"
     ]
    },
    {
     "name": "stderr",
     "output_type": "stream",
     "text": [
      "Training UserReg: 100%|██████████| 10/10 [00:09<00:00,  1.10it/s]\n"
     ]
    },
    {
     "name": "stdout",
     "output_type": "stream",
     "text": [
      "Test RMSE: 1.0221\n",
      "(14/36)\n",
      "Applying WANNLS matrix factorization with alpha1=0.15, alpha2=0, m1=10, m2=25...\n",
      "Found 31598 total ratings.\n",
      "Average un-normalized weight (w'_avg): 0.4941\n"
     ]
    },
    {
     "name": "stderr",
     "output_type": "stream",
     "text": [
      "Training UserReg: 100%|██████████| 10/10 [00:08<00:00,  1.11it/s]\n"
     ]
    },
    {
     "name": "stdout",
     "output_type": "stream",
     "text": [
      "Test RMSE: 1.0221\n",
      "(15/36)\n",
      "Applying WANNLS matrix factorization with alpha1=0.15, alpha2=0, m1=20, m2=16...\n",
      "Found 31598 total ratings.\n",
      "Average un-normalized weight (w'_avg): 0.4844\n"
     ]
    },
    {
     "name": "stderr",
     "output_type": "stream",
     "text": [
      "Training UserReg: 100%|██████████| 10/10 [00:09<00:00,  1.10it/s]\n"
     ]
    },
    {
     "name": "stdout",
     "output_type": "stream",
     "text": [
      "Test RMSE: 1.0009\n",
      "(16/36)\n",
      "Applying WANNLS matrix factorization with alpha1=0.15, alpha2=0, m1=20, m2=25...\n",
      "Found 31598 total ratings.\n",
      "Average un-normalized weight (w'_avg): 0.4844\n"
     ]
    },
    {
     "name": "stderr",
     "output_type": "stream",
     "text": [
      "Training UserReg: 100%|██████████| 10/10 [00:09<00:00,  1.11it/s]\n"
     ]
    },
    {
     "name": "stdout",
     "output_type": "stream",
     "text": [
      "Test RMSE: 1.0009\n",
      "(17/36)\n",
      "Applying WANNLS matrix factorization with alpha1=0.15, alpha2=0.15, m1=10, m2=16...\n",
      "Found 31598 total ratings.\n",
      "Average un-normalized weight (w'_avg): 0.2929\n"
     ]
    },
    {
     "name": "stderr",
     "output_type": "stream",
     "text": [
      "Training UserReg: 100%|██████████| 10/10 [00:09<00:00,  1.11it/s]\n"
     ]
    },
    {
     "name": "stdout",
     "output_type": "stream",
     "text": [
      "Test RMSE: 0.9909\n",
      "(18/36)\n",
      "Applying WANNLS matrix factorization with alpha1=0.15, alpha2=0.15, m1=10, m2=25...\n",
      "Found 31598 total ratings.\n",
      "Average un-normalized weight (w'_avg): 0.2815\n"
     ]
    },
    {
     "name": "stderr",
     "output_type": "stream",
     "text": [
      "Training UserReg: 100%|██████████| 10/10 [00:09<00:00,  1.10it/s]\n"
     ]
    },
    {
     "name": "stdout",
     "output_type": "stream",
     "text": [
      "Test RMSE: 0.9937\n",
      "(19/36)\n",
      "Applying WANNLS matrix factorization with alpha1=0.15, alpha2=0.15, m1=20, m2=16...\n",
      "Found 31598 total ratings.\n",
      "Average un-normalized weight (w'_avg): 0.2873\n"
     ]
    },
    {
     "name": "stderr",
     "output_type": "stream",
     "text": [
      "Training UserReg: 100%|██████████| 10/10 [00:08<00:00,  1.11it/s]\n"
     ]
    },
    {
     "name": "stdout",
     "output_type": "stream",
     "text": [
      "Test RMSE: 0.9752\n",
      "(20/36)\n",
      "Applying WANNLS matrix factorization with alpha1=0.15, alpha2=0.15, m1=20, m2=25...\n",
      "Found 31598 total ratings.\n",
      "Average un-normalized weight (w'_avg): 0.2761\n"
     ]
    },
    {
     "name": "stderr",
     "output_type": "stream",
     "text": [
      "Training UserReg: 100%|██████████| 10/10 [00:09<00:00,  1.09it/s]\n"
     ]
    },
    {
     "name": "stdout",
     "output_type": "stream",
     "text": [
      "Test RMSE: 0.9768\n",
      "(21/36)\n",
      "Applying WANNLS matrix factorization with alpha1=0.15, alpha2=0.25, m1=10, m2=16...\n",
      "Found 31598 total ratings.\n",
      "Average un-normalized weight (w'_avg): 0.2073\n"
     ]
    },
    {
     "name": "stderr",
     "output_type": "stream",
     "text": [
      "Training UserReg: 100%|██████████| 10/10 [00:08<00:00,  1.11it/s]\n"
     ]
    },
    {
     "name": "stdout",
     "output_type": "stream",
     "text": [
      "Test RMSE: 1.0053\n",
      "(22/36)\n",
      "Applying WANNLS matrix factorization with alpha1=0.15, alpha2=0.25, m1=10, m2=25...\n",
      "Found 31598 total ratings.\n",
      "Average un-normalized weight (w'_avg): 0.1939\n"
     ]
    },
    {
     "name": "stderr",
     "output_type": "stream",
     "text": [
      "Training UserReg: 100%|██████████| 10/10 [00:08<00:00,  1.11it/s]\n"
     ]
    },
    {
     "name": "stdout",
     "output_type": "stream",
     "text": [
      "Test RMSE: 0.9971\n",
      "(23/36)\n",
      "Applying WANNLS matrix factorization with alpha1=0.15, alpha2=0.25, m1=20, m2=16...\n",
      "Found 31598 total ratings.\n",
      "Average un-normalized weight (w'_avg): 0.2034\n"
     ]
    },
    {
     "name": "stderr",
     "output_type": "stream",
     "text": [
      "Training UserReg: 100%|██████████| 10/10 [00:09<00:00,  1.08it/s]\n"
     ]
    },
    {
     "name": "stdout",
     "output_type": "stream",
     "text": [
      "Test RMSE: 0.9943\n",
      "(24/36)\n",
      "Applying WANNLS matrix factorization with alpha1=0.15, alpha2=0.25, m1=20, m2=25...\n",
      "Found 31598 total ratings.\n",
      "Average un-normalized weight (w'_avg): 0.1901\n"
     ]
    },
    {
     "name": "stderr",
     "output_type": "stream",
     "text": [
      "Training UserReg: 100%|██████████| 10/10 [00:09<00:00,  1.11it/s]\n"
     ]
    },
    {
     "name": "stdout",
     "output_type": "stream",
     "text": [
      "Test RMSE: 0.9838\n",
      "(25/36)\n",
      "Applying WANNLS matrix factorization with alpha1=0.25, alpha2=0, m1=10, m2=16...\n",
      "Found 31598 total ratings.\n",
      "Average un-normalized weight (w'_avg): 0.3124\n"
     ]
    },
    {
     "name": "stderr",
     "output_type": "stream",
     "text": [
      "Training UserReg: 100%|██████████| 10/10 [00:09<00:00,  1.05it/s]\n"
     ]
    },
    {
     "name": "stdout",
     "output_type": "stream",
     "text": [
      "Test RMSE: 1.2359\n",
      "(26/36)\n",
      "Applying WANNLS matrix factorization with alpha1=0.25, alpha2=0, m1=10, m2=25...\n",
      "Found 31598 total ratings.\n",
      "Average un-normalized weight (w'_avg): 0.3124\n"
     ]
    },
    {
     "name": "stderr",
     "output_type": "stream",
     "text": [
      "Training UserReg: 100%|██████████| 10/10 [00:09<00:00,  1.03it/s]\n"
     ]
    },
    {
     "name": "stdout",
     "output_type": "stream",
     "text": [
      "Test RMSE: 1.2359\n",
      "(27/36)\n",
      "Applying WANNLS matrix factorization with alpha1=0.25, alpha2=0, m1=20, m2=16...\n",
      "Found 31598 total ratings.\n",
      "Average un-normalized weight (w'_avg): 0.3015\n"
     ]
    },
    {
     "name": "stderr",
     "output_type": "stream",
     "text": [
      "Training UserReg: 100%|██████████| 10/10 [00:09<00:00,  1.06it/s]\n"
     ]
    },
    {
     "name": "stdout",
     "output_type": "stream",
     "text": [
      "Test RMSE: 1.1803\n",
      "(28/36)\n",
      "Applying WANNLS matrix factorization with alpha1=0.25, alpha2=0, m1=20, m2=25...\n",
      "Found 31598 total ratings.\n",
      "Average un-normalized weight (w'_avg): 0.3015\n"
     ]
    },
    {
     "name": "stderr",
     "output_type": "stream",
     "text": [
      "Training UserReg: 100%|██████████| 10/10 [00:09<00:00,  1.04it/s]\n"
     ]
    },
    {
     "name": "stdout",
     "output_type": "stream",
     "text": [
      "Test RMSE: 1.1803\n",
      "(29/36)\n",
      "Applying WANNLS matrix factorization with alpha1=0.25, alpha2=0.15, m1=10, m2=16...\n",
      "Found 31598 total ratings.\n",
      "Average un-normalized weight (w'_avg): 0.1849\n"
     ]
    },
    {
     "name": "stderr",
     "output_type": "stream",
     "text": [
      "Training UserReg: 100%|██████████| 10/10 [00:09<00:00,  1.02it/s]\n"
     ]
    },
    {
     "name": "stdout",
     "output_type": "stream",
     "text": [
      "Test RMSE: 1.1689\n",
      "(30/36)\n",
      "Applying WANNLS matrix factorization with alpha1=0.25, alpha2=0.15, m1=10, m2=25...\n",
      "Found 31598 total ratings.\n",
      "Average un-normalized weight (w'_avg): 0.1777\n"
     ]
    },
    {
     "name": "stderr",
     "output_type": "stream",
     "text": [
      "Training UserReg: 100%|██████████| 10/10 [00:09<00:00,  1.07it/s]\n"
     ]
    },
    {
     "name": "stdout",
     "output_type": "stream",
     "text": [
      "Test RMSE: 1.1800\n",
      "(31/36)\n",
      "Applying WANNLS matrix factorization with alpha1=0.25, alpha2=0.15, m1=20, m2=16...\n",
      "Found 31598 total ratings.\n",
      "Average un-normalized weight (w'_avg): 0.1785\n"
     ]
    },
    {
     "name": "stderr",
     "output_type": "stream",
     "text": [
      "Training UserReg: 100%|██████████| 10/10 [00:09<00:00,  1.08it/s]\n"
     ]
    },
    {
     "name": "stdout",
     "output_type": "stream",
     "text": [
      "Test RMSE: 1.1210\n",
      "(32/36)\n",
      "Applying WANNLS matrix factorization with alpha1=0.25, alpha2=0.15, m1=20, m2=25...\n",
      "Found 31598 total ratings.\n",
      "Average un-normalized weight (w'_avg): 0.1716\n"
     ]
    },
    {
     "name": "stderr",
     "output_type": "stream",
     "text": [
      "Training UserReg: 100%|██████████| 10/10 [00:09<00:00,  1.07it/s]\n"
     ]
    },
    {
     "name": "stdout",
     "output_type": "stream",
     "text": [
      "Test RMSE: 1.1303\n",
      "(33/36)\n",
      "Applying WANNLS matrix factorization with alpha1=0.25, alpha2=0.25, m1=10, m2=16...\n",
      "Found 31598 total ratings.\n",
      "Average un-normalized weight (w'_avg): 0.1307\n"
     ]
    },
    {
     "name": "stderr",
     "output_type": "stream",
     "text": [
      "Training UserReg: 100%|██████████| 10/10 [00:09<00:00,  1.07it/s]\n"
     ]
    },
    {
     "name": "stdout",
     "output_type": "stream",
     "text": [
      "Test RMSE: 1.1531\n",
      "(34/36)\n",
      "Applying WANNLS matrix factorization with alpha1=0.25, alpha2=0.25, m1=10, m2=25...\n",
      "Found 31598 total ratings.\n",
      "Average un-normalized weight (w'_avg): 0.1222\n"
     ]
    },
    {
     "name": "stderr",
     "output_type": "stream",
     "text": [
      "Training UserReg: 100%|██████████| 10/10 [00:09<00:00,  1.08it/s]\n"
     ]
    },
    {
     "name": "stdout",
     "output_type": "stream",
     "text": [
      "Test RMSE: 1.1608\n",
      "(35/36)\n",
      "Applying WANNLS matrix factorization with alpha1=0.25, alpha2=0.25, m1=20, m2=16...\n",
      "Found 31598 total ratings.\n",
      "Average un-normalized weight (w'_avg): 0.1262\n"
     ]
    },
    {
     "name": "stderr",
     "output_type": "stream",
     "text": [
      "Training UserReg: 100%|██████████| 10/10 [00:09<00:00,  1.08it/s]\n"
     ]
    },
    {
     "name": "stdout",
     "output_type": "stream",
     "text": [
      "Test RMSE: 1.1118\n",
      "(36/36)\n",
      "Applying WANNLS matrix factorization with alpha1=0.25, alpha2=0.25, m1=20, m2=25...\n",
      "Found 31598 total ratings.\n",
      "Average un-normalized weight (w'_avg): 0.1181\n"
     ]
    },
    {
     "name": "stderr",
     "output_type": "stream",
     "text": [
      "Training UserReg: 100%|██████████| 10/10 [00:09<00:00,  1.07it/s]"
     ]
    },
    {
     "name": "stdout",
     "output_type": "stream",
     "text": [
      "Test RMSE: 1.1161\n",
      "\n",
      "Results saved to 'wannls_grid_search_results.csv'\n",
      "\n",
      "Top 10 models by RMSE:\n",
      "    alpha  alpha2  m1  m2      rmse\n",
      "0     0.0    0.00  10  16  0.890190\n",
      "1     0.0    0.00  10  25  0.890190\n",
      "2     0.0    0.00  20  16  0.890190\n",
      "3     0.0    0.00  20  25  0.890190\n",
      "5     0.0    0.15  10  25  0.909835\n",
      "7     0.0    0.15  20  25  0.909835\n",
      "4     0.0    0.15  10  16  0.920452\n",
      "6     0.0    0.15  20  16  0.920452\n",
      "9     0.0    0.25  10  25  0.950413\n",
      "11    0.0    0.25  20  25  0.950413\n"
     ]
    },
    {
     "name": "stderr",
     "output_type": "stream",
     "text": [
      "\n"
     ]
    }
   ],
   "source": [
    "#Grid search for weights parameters for WUserReg\n",
    "\n",
    "results = []\n",
    "best_rmse = float(\"inf\")\n",
    "best_params = None\n",
    "iter = 0 \n",
    "# Apply ALS matrix factorization\n",
    "for alpha1 in [0, 0.15, 0.25]:\n",
    "     for alpha2 in [0, 0.15, 0.25]:\n",
    "          for m1 in [10,20]:\n",
    "               for m2 in [16,25]:\n",
    "                iter += 1\n",
    "                print(f\"({iter}/36)\")\n",
    "                print(f\"Applying WANNLS matrix factorization with alpha1={alpha1}, alpha2={alpha2}, m1={m1}, m2={m2}...\")\n",
    "                model2 = WUserReg(k=8, lr=0.01, lambda_reg=0.02, beta_reg=8.0, bias_init=\"medium_adapted_mean\", num_iterations=10,\n",
    "                  alpha1=alpha1, alpha2=alpha2, m1=m1, m2=m2)\n",
    "\n",
    "\n",
    "                model2.fit(R_train)\n",
    "\n",
    "                preds2 = model2.predict()\n",
    "\n",
    "                mask_test2 = ~np.isnan(R_test)\n",
    "                true_values2 = R_test[mask_test2]\n",
    "                pred_values2 = preds2[mask_test2]\n",
    "\n",
    "                rmse_test2 = np.sqrt(np.mean((true_values2 - pred_values2) ** 2))\n",
    "                print(f\"Test RMSE: {rmse_test2:.4f}\")\n",
    "\n",
    "                results.append(\n",
    "                        {\n",
    "                            \"alpha\": alpha1,\n",
    "                            \"alpha2\": alpha2,\n",
    "                            \"m1\": m1,\n",
    "                            \"m2\": m2,\n",
    "                            \"rmse\": rmse_test2,\n",
    "                        }\n",
    "                    )\n",
    "                if rmse_test2 < best_rmse:\n",
    "                        best_rmse = rmse_test2\n",
    "                        best_params = {\n",
    "                            \"alpha\": alpha1,\n",
    "                            \"alpha2\": alpha2,\n",
    "                            \"m1\": m1,\n",
    "                            \"m2\": m2,\n",
    "                            \"rmse\": rmse_test2,\n",
    "                        }\n",
    "                        print(f\"  *** NEW BEST MODEL ***\")\n",
    "                \n",
    "results_df = pd.DataFrame(results)\n",
    "results_df.to_csv(\"WUserReg_grid_search_results.csv\", index=False)\n",
    "print(f\"\\nResults saved to 'wannls_grid_search_results.csv'\")\n",
    "\n",
    "\n",
    "print(\"\\nTop 10 models by RMSE:\")\n",
    "print(results_df.nsmallest(10, \"rmse\"))"
   ]
  },
  {
   "cell_type": "code",
   "execution_count": null,
   "id": "96325bcd",
   "metadata": {},
   "outputs": [
    {
     "name": "stdout",
     "output_type": "stream",
     "text": [
      "Combined dataset shape: (610, 4980) (users × items)\n",
      "Running 3-fold cross-validation...\n",
      "\n",
      "Fold 1/3\n",
      "  RMSE = 0.9109 | MAE = 0.7082\n",
      "\n",
      "Fold 2/3\n",
      "  RMSE = 0.9075 | MAE = 0.7064\n",
      "\n",
      "Fold 3/3\n",
      "  RMSE = 0.9084 | MAE = 0.7075\n",
      "\n",
      "Average RMSE: 0.9089 ± 0.0014\n",
      "Average MAE : 0.7074 ± 0.0007\n"
     ]
    }
   ],
   "source": [
    "\n",
    "\n",
    "# ---------- Combine Train/Test ----------\n",
    "R_train = np.load(\"data/ratings_train.npy\")\n",
    "R_test = np.load(\"data/ratings_test.npy\")\n",
    "\n",
    "\n",
    "R_combined = np.where(~np.isnan(R_train), R_train, R_test)\n",
    "print(f\"Combined dataset shape: {R_combined.shape} (users × items)\")\n",
    "\n",
    "\n",
    "# ---------- Helper functions ----------\n",
    "def train_test_split_per_user(R, test_ratio=0.2, seed=42):\n",
    "    np.random.seed(seed)\n",
    "    n_users, _ = R.shape\n",
    "    R_train = np.full_like(R, np.nan)\n",
    "    R_test = np.full_like(R, np.nan)\n",
    "\n",
    "    for u in range(n_users):\n",
    "        items = np.where(~np.isnan(R[u]))[0]\n",
    "        if len(items) == 0:\n",
    "            continue\n",
    "        np.random.shuffle(items)\n",
    "        split = int(len(items) * (1 - test_ratio))\n",
    "        R_train[u, items[:split]] = R[u, items[:split]]\n",
    "        R_test[u, items[split:]] = R[u, items[split:]]\n",
    "    return R_train, R_test\n",
    "\n",
    "\n",
    "def generate_kfold_splits(R, k=5, test_ratio=0.5):\n",
    "    return [train_test_split_random(R, test_ratio=test_ratio, seed=i) for i in range(k)]\n",
    "\n",
    "\n",
    "# ---------- K-fold evaluation ----------\n",
    "def evaluate_kfold(R, k=5, test_ratio=0.2,\n",
    "                   latent_dim=10, lr=0.005, lambda_reg=0.1, beta_reg=8.0, epochs=60):\n",
    "                   \n",
    "    rmses, maes = [], []\n",
    "    splits = generate_kfold_splits(R, k=k, test_ratio=test_ratio)\n",
    "    print(f\"Running {k}-fold cross-validation...\")\n",
    "\n",
    "    for fold, (R_tr, R_te) in enumerate(splits, 1):\n",
    "        print(f\"\\nFold {fold}/{k}\")\n",
    "        model = UserReg(k=latent_dim, lr=lr, lambda_reg=lambda_reg,\n",
    "                        beta_reg=beta_reg, num_iterations=epochs, verbose=False)\n",
    "        model.fit(R_tr)\n",
    "        preds = model.predict()\n",
    "\n",
    "        mask = ~np.isnan(R_te)\n",
    "        true, pred = R_te[mask], preds[mask]\n",
    "        rmse = np.sqrt(np.mean((true - pred) ** 2))\n",
    "        mae = np.mean(np.abs(true - pred))\n",
    "        rmses.append(rmse)\n",
    "        maes.append(mae)\n",
    "        print(f\"  RMSE = {rmse:.4f} | MAE = {mae:.4f}\")\n",
    "\n",
    "    print(f\"\\nAverage RMSE: {np.mean(rmses):.4f} ± {np.std(rmses):.4f}\")\n",
    "    print(f\"Average MAE : {np.mean(maes):.4f} ± {np.std(maes):.4f}\")\n",
    "    return rmses, maes\n",
    "\n",
    "\n",
    "# ---------- Run evaluation ----------\n",
    "rmses, maes = evaluate_kfold(\n",
    "    R_combined,\n",
    "    k=3,\n",
    "    test_ratio=0.5,\n",
    "    latent_dim=5,\n",
    "    lr=0.01,\n",
    "    lambda_reg=0.05,\n",
    "    beta_reg=8.0,\n",
    "    epochs=40\n",
    ")"
   ]
  },
  {
   "cell_type": "code",
   "execution_count": null,
   "id": "ec18bf5e",
   "metadata": {},
   "outputs": [],
   "source": []
  },
  {
   "cell_type": "code",
   "execution_count": 43,
   "id": "f9e5477f",
   "metadata": {},
   "outputs": [
    {
     "name": "stdout",
     "output_type": "stream",
     "text": [
      "Combined dataset shape: (610, 4980) (users × items)\n",
      "Total combinations: 162\n",
      "Testing k=5, λ=0.05, β=8, lr=0.002, epochs=20\n",
      "  → RMSE: 1.0761 ± 0.0022\n",
      "Testing k=5, λ=0.05, β=8, lr=0.002, epochs=30\n",
      "  → RMSE: 1.0761 ± 0.0022\n",
      "Testing k=5, λ=0.05, β=8, lr=0.002, epochs=30\n",
      "  → RMSE: 1.0059 ± 0.0017\n",
      "Testing k=5, λ=0.05, β=8, lr=0.005, epochs=20\n",
      "  → RMSE: 1.0059 ± 0.0017\n",
      "Testing k=5, λ=0.05, β=8, lr=0.005, epochs=20\n",
      "  → RMSE: 0.9457 ± 0.0018\n",
      "Testing k=5, λ=0.05, β=8, lr=0.005, epochs=30\n",
      "  → RMSE: 0.9457 ± 0.0018\n",
      "Testing k=5, λ=0.05, β=8, lr=0.005, epochs=30\n",
      "  → RMSE: 0.9178 ± 0.0017\n",
      "Testing k=5, λ=0.05, β=8, lr=0.01, epochs=20\n",
      "  → RMSE: 0.9178 ± 0.0017\n",
      "Testing k=5, λ=0.05, β=8, lr=0.01, epochs=20\n",
      "  → RMSE: 0.9073 ± 0.0018\n",
      "Testing k=5, λ=0.05, β=8, lr=0.01, epochs=30\n",
      "  → RMSE: 0.9073 ± 0.0018\n",
      "Testing k=5, λ=0.05, β=8, lr=0.01, epochs=30\n",
      "  → RMSE: 0.8992 ± 0.0017\n",
      "Testing k=5, λ=0.05, β=12, lr=0.002, epochs=20\n",
      "  → RMSE: 0.8992 ± 0.0017\n",
      "Testing k=5, λ=0.05, β=12, lr=0.002, epochs=20\n",
      "  → RMSE: 1.0761 ± 0.0022\n",
      "Testing k=5, λ=0.05, β=12, lr=0.002, epochs=30\n",
      "  → RMSE: 1.0761 ± 0.0022\n",
      "Testing k=5, λ=0.05, β=12, lr=0.002, epochs=30\n",
      "  → RMSE: 1.0059 ± 0.0017\n",
      "Testing k=5, λ=0.05, β=12, lr=0.005, epochs=20\n",
      "  → RMSE: 1.0059 ± 0.0017\n",
      "Testing k=5, λ=0.05, β=12, lr=0.005, epochs=20\n",
      "  → RMSE: 0.9457 ± 0.0018\n",
      "Testing k=5, λ=0.05, β=12, lr=0.005, epochs=30\n",
      "  → RMSE: 0.9457 ± 0.0018\n",
      "Testing k=5, λ=0.05, β=12, lr=0.005, epochs=30\n",
      "  → RMSE: 0.9178 ± 0.0017\n",
      "Testing k=5, λ=0.05, β=12, lr=0.01, epochs=20\n",
      "  → RMSE: 0.9178 ± 0.0017\n",
      "Testing k=5, λ=0.05, β=12, lr=0.01, epochs=20\n",
      "  → RMSE: 0.9073 ± 0.0018\n",
      "Testing k=5, λ=0.05, β=12, lr=0.01, epochs=30\n",
      "  → RMSE: 0.9073 ± 0.0018\n",
      "Testing k=5, λ=0.05, β=12, lr=0.01, epochs=30\n",
      "  → RMSE: 0.8992 ± 0.0017\n",
      "Testing k=5, λ=0.05, β=16, lr=0.002, epochs=20\n",
      "  → RMSE: 0.8992 ± 0.0017\n",
      "Testing k=5, λ=0.05, β=16, lr=0.002, epochs=20\n",
      "  → RMSE: 1.0761 ± 0.0022\n",
      "Testing k=5, λ=0.05, β=16, lr=0.002, epochs=30\n",
      "  → RMSE: 1.0761 ± 0.0022\n",
      "Testing k=5, λ=0.05, β=16, lr=0.002, epochs=30\n",
      "  → RMSE: 1.0059 ± 0.0017\n",
      "Testing k=5, λ=0.05, β=16, lr=0.005, epochs=20\n",
      "  → RMSE: 1.0059 ± 0.0017\n",
      "Testing k=5, λ=0.05, β=16, lr=0.005, epochs=20\n",
      "  → RMSE: 0.9457 ± 0.0018\n",
      "Testing k=5, λ=0.05, β=16, lr=0.005, epochs=30\n",
      "  → RMSE: 0.9457 ± 0.0018\n",
      "Testing k=5, λ=0.05, β=16, lr=0.005, epochs=30\n",
      "  → RMSE: 0.9178 ± 0.0017\n",
      "Testing k=5, λ=0.05, β=16, lr=0.01, epochs=20\n",
      "  → RMSE: 0.9178 ± 0.0017\n",
      "Testing k=5, λ=0.05, β=16, lr=0.01, epochs=20\n",
      "  → RMSE: 0.9073 ± 0.0018\n",
      "Testing k=5, λ=0.05, β=16, lr=0.01, epochs=30\n",
      "  → RMSE: 0.9073 ± 0.0018\n",
      "Testing k=5, λ=0.05, β=16, lr=0.01, epochs=30\n",
      "  → RMSE: 0.8992 ± 0.0017\n",
      "Testing k=5, λ=0.1, β=8, lr=0.002, epochs=20\n",
      "  → RMSE: 0.8992 ± 0.0017\n",
      "Testing k=5, λ=0.1, β=8, lr=0.002, epochs=20\n",
      "  → RMSE: 1.0938 ± 0.0021\n",
      "Testing k=5, λ=0.1, β=8, lr=0.002, epochs=30\n",
      "  → RMSE: 1.0938 ± 0.0021\n",
      "Testing k=5, λ=0.1, β=8, lr=0.002, epochs=30\n",
      "  → RMSE: 1.0253 ± 0.0017\n",
      "Testing k=5, λ=0.1, β=8, lr=0.005, epochs=20\n",
      "  → RMSE: 1.0253 ± 0.0017\n",
      "Testing k=5, λ=0.1, β=8, lr=0.005, epochs=20\n",
      "  → RMSE: 0.9650 ± 0.0017\n",
      "Testing k=5, λ=0.1, β=8, lr=0.005, epochs=30\n",
      "  → RMSE: 0.9650 ± 0.0017\n",
      "Testing k=5, λ=0.1, β=8, lr=0.005, epochs=30\n",
      "  → RMSE: 0.9396 ± 0.0016\n",
      "Testing k=5, λ=0.1, β=8, lr=0.01, epochs=20\n",
      "  → RMSE: 0.9396 ± 0.0016\n",
      "Testing k=5, λ=0.1, β=8, lr=0.01, epochs=20\n",
      "  → RMSE: 0.9266 ± 0.0018\n",
      "Testing k=5, λ=0.1, β=8, lr=0.01, epochs=30\n",
      "  → RMSE: 0.9266 ± 0.0018\n",
      "Testing k=5, λ=0.1, β=8, lr=0.01, epochs=30\n",
      "  → RMSE: 0.9196 ± 0.0017\n",
      "Testing k=5, λ=0.1, β=12, lr=0.002, epochs=20\n",
      "  → RMSE: 0.9196 ± 0.0017\n",
      "Testing k=5, λ=0.1, β=12, lr=0.002, epochs=20\n",
      "  → RMSE: 1.0938 ± 0.0021\n",
      "Testing k=5, λ=0.1, β=12, lr=0.002, epochs=30\n",
      "  → RMSE: 1.0938 ± 0.0021\n",
      "Testing k=5, λ=0.1, β=12, lr=0.002, epochs=30\n",
      "  → RMSE: 1.0253 ± 0.0017\n",
      "Testing k=5, λ=0.1, β=12, lr=0.005, epochs=20\n",
      "  → RMSE: 1.0253 ± 0.0017\n",
      "Testing k=5, λ=0.1, β=12, lr=0.005, epochs=20\n",
      "  → RMSE: 0.9650 ± 0.0017\n",
      "Testing k=5, λ=0.1, β=12, lr=0.005, epochs=30\n",
      "  → RMSE: 0.9650 ± 0.0017\n",
      "Testing k=5, λ=0.1, β=12, lr=0.005, epochs=30\n",
      "  → RMSE: 0.9396 ± 0.0016\n",
      "Testing k=5, λ=0.1, β=12, lr=0.01, epochs=20\n",
      "  → RMSE: 0.9396 ± 0.0016\n",
      "Testing k=5, λ=0.1, β=12, lr=0.01, epochs=20\n",
      "  → RMSE: 0.9266 ± 0.0018\n",
      "Testing k=5, λ=0.1, β=12, lr=0.01, epochs=30\n",
      "  → RMSE: 0.9266 ± 0.0018\n",
      "Testing k=5, λ=0.1, β=12, lr=0.01, epochs=30\n",
      "  → RMSE: 0.9196 ± 0.0017\n",
      "Testing k=5, λ=0.1, β=16, lr=0.002, epochs=20\n",
      "  → RMSE: 0.9196 ± 0.0017\n",
      "Testing k=5, λ=0.1, β=16, lr=0.002, epochs=20\n",
      "  → RMSE: 1.0938 ± 0.0021\n",
      "Testing k=5, λ=0.1, β=16, lr=0.002, epochs=30\n",
      "  → RMSE: 1.0938 ± 0.0021\n",
      "Testing k=5, λ=0.1, β=16, lr=0.002, epochs=30\n",
      "  → RMSE: 1.0253 ± 0.0017\n",
      "Testing k=5, λ=0.1, β=16, lr=0.005, epochs=20\n",
      "  → RMSE: 1.0253 ± 0.0017\n",
      "Testing k=5, λ=0.1, β=16, lr=0.005, epochs=20\n",
      "  → RMSE: 0.9650 ± 0.0017\n",
      "Testing k=5, λ=0.1, β=16, lr=0.005, epochs=30\n",
      "  → RMSE: 0.9650 ± 0.0017\n",
      "Testing k=5, λ=0.1, β=16, lr=0.005, epochs=30\n",
      "  → RMSE: 0.9396 ± 0.0016\n",
      "Testing k=5, λ=0.1, β=16, lr=0.01, epochs=20\n",
      "  → RMSE: 0.9396 ± 0.0016\n",
      "Testing k=5, λ=0.1, β=16, lr=0.01, epochs=20\n",
      "  → RMSE: 0.9266 ± 0.0018\n",
      "Testing k=5, λ=0.1, β=16, lr=0.01, epochs=30\n",
      "  → RMSE: 0.9266 ± 0.0018\n",
      "Testing k=5, λ=0.1, β=16, lr=0.01, epochs=30\n",
      "  → RMSE: 0.9196 ± 0.0017\n",
      "Testing k=5, λ=0.2, β=8, lr=0.002, epochs=20\n",
      "  → RMSE: 0.9196 ± 0.0017\n",
      "Testing k=5, λ=0.2, β=8, lr=0.002, epochs=20\n",
      "  → RMSE: 1.1479 ± 0.0018\n",
      "Testing k=5, λ=0.2, β=8, lr=0.002, epochs=30\n",
      "  → RMSE: 1.1479 ± 0.0018\n",
      "Testing k=5, λ=0.2, β=8, lr=0.002, epochs=30\n",
      "  → RMSE: 1.0835 ± 0.0015\n",
      "Testing k=5, λ=0.2, β=8, lr=0.005, epochs=20\n",
      "  → RMSE: 1.0835 ± 0.0015\n",
      "Testing k=5, λ=0.2, β=8, lr=0.005, epochs=20\n",
      "  → RMSE: 1.0225 ± 0.0016\n",
      "Testing k=5, λ=0.2, β=8, lr=0.005, epochs=30\n",
      "  → RMSE: 1.0225 ± 0.0016\n",
      "Testing k=5, λ=0.2, β=8, lr=0.005, epochs=30\n",
      "  → RMSE: 0.9990 ± 0.0016\n",
      "Testing k=5, λ=0.2, β=8, lr=0.01, epochs=20\n",
      "  → RMSE: 0.9990 ± 0.0016\n",
      "Testing k=5, λ=0.2, β=8, lr=0.01, epochs=20\n",
      "  → RMSE: 0.9803 ± 0.0017\n",
      "Testing k=5, λ=0.2, β=8, lr=0.01, epochs=30\n",
      "  → RMSE: 0.9803 ± 0.0017\n",
      "Testing k=5, λ=0.2, β=8, lr=0.01, epochs=30\n",
      "  → RMSE: 0.9718 ± 0.0017\n",
      "Testing k=5, λ=0.2, β=12, lr=0.002, epochs=20\n",
      "  → RMSE: 0.9718 ± 0.0017\n",
      "Testing k=5, λ=0.2, β=12, lr=0.002, epochs=20\n",
      "  → RMSE: 1.1479 ± 0.0018\n",
      "Testing k=5, λ=0.2, β=12, lr=0.002, epochs=30\n",
      "  → RMSE: 1.1479 ± 0.0018\n",
      "Testing k=5, λ=0.2, β=12, lr=0.002, epochs=30\n",
      "  → RMSE: 1.0835 ± 0.0015\n",
      "Testing k=5, λ=0.2, β=12, lr=0.005, epochs=20\n",
      "  → RMSE: 1.0835 ± 0.0015\n",
      "Testing k=5, λ=0.2, β=12, lr=0.005, epochs=20\n",
      "  → RMSE: 1.0225 ± 0.0016\n",
      "Testing k=5, λ=0.2, β=12, lr=0.005, epochs=30\n",
      "  → RMSE: 1.0225 ± 0.0016\n",
      "Testing k=5, λ=0.2, β=12, lr=0.005, epochs=30\n",
      "  → RMSE: 0.9990 ± 0.0016\n",
      "Testing k=5, λ=0.2, β=12, lr=0.01, epochs=20\n",
      "  → RMSE: 0.9990 ± 0.0016\n",
      "Testing k=5, λ=0.2, β=12, lr=0.01, epochs=20\n",
      "  → RMSE: 0.9803 ± 0.0017\n",
      "Testing k=5, λ=0.2, β=12, lr=0.01, epochs=30\n",
      "  → RMSE: 0.9803 ± 0.0017\n",
      "Testing k=5, λ=0.2, β=12, lr=0.01, epochs=30\n",
      "  → RMSE: 0.9718 ± 0.0017\n",
      "Testing k=5, λ=0.2, β=16, lr=0.002, epochs=20\n",
      "  → RMSE: 0.9718 ± 0.0017\n",
      "Testing k=5, λ=0.2, β=16, lr=0.002, epochs=20\n",
      "  → RMSE: 1.1479 ± 0.0018\n",
      "Testing k=5, λ=0.2, β=16, lr=0.002, epochs=30\n",
      "  → RMSE: 1.1479 ± 0.0018\n",
      "Testing k=5, λ=0.2, β=16, lr=0.002, epochs=30\n",
      "  → RMSE: 1.0835 ± 0.0015\n",
      "Testing k=5, λ=0.2, β=16, lr=0.005, epochs=20\n",
      "  → RMSE: 1.0835 ± 0.0015\n",
      "Testing k=5, λ=0.2, β=16, lr=0.005, epochs=20\n",
      "  → RMSE: 1.0225 ± 0.0016\n",
      "Testing k=5, λ=0.2, β=16, lr=0.005, epochs=30\n",
      "  → RMSE: 1.0225 ± 0.0016\n",
      "Testing k=5, λ=0.2, β=16, lr=0.005, epochs=30\n",
      "  → RMSE: 0.9990 ± 0.0016\n",
      "Testing k=5, λ=0.2, β=16, lr=0.01, epochs=20\n",
      "  → RMSE: 0.9990 ± 0.0016\n",
      "Testing k=5, λ=0.2, β=16, lr=0.01, epochs=20\n",
      "  → RMSE: 0.9803 ± 0.0017\n",
      "Testing k=5, λ=0.2, β=16, lr=0.01, epochs=30\n",
      "  → RMSE: 0.9803 ± 0.0017\n",
      "Testing k=5, λ=0.2, β=16, lr=0.01, epochs=30\n",
      "  → RMSE: 0.9718 ± 0.0017\n",
      "Testing k=10, λ=0.05, β=8, lr=0.002, epochs=20\n",
      "  → RMSE: 0.9718 ± 0.0017\n",
      "Testing k=10, λ=0.05, β=8, lr=0.002, epochs=20\n",
      "  → RMSE: 1.0765 ± 0.0022\n",
      "Testing k=10, λ=0.05, β=8, lr=0.002, epochs=30\n",
      "  → RMSE: 1.0765 ± 0.0022\n",
      "Testing k=10, λ=0.05, β=8, lr=0.002, epochs=30\n",
      "  → RMSE: 1.0062 ± 0.0017\n",
      "Testing k=10, λ=0.05, β=8, lr=0.005, epochs=20\n",
      "  → RMSE: 1.0062 ± 0.0017\n",
      "Testing k=10, λ=0.05, β=8, lr=0.005, epochs=20\n",
      "  → RMSE: 0.9461 ± 0.0017\n",
      "Testing k=10, λ=0.05, β=8, lr=0.005, epochs=30\n",
      "  → RMSE: 0.9461 ± 0.0017\n",
      "Testing k=10, λ=0.05, β=8, lr=0.005, epochs=30\n",
      "  → RMSE: 0.9181 ± 0.0016\n",
      "Testing k=10, λ=0.05, β=8, lr=0.01, epochs=20\n",
      "  → RMSE: 0.9181 ± 0.0016\n",
      "Testing k=10, λ=0.05, β=8, lr=0.01, epochs=20\n",
      "  → RMSE: 0.9075 ± 0.0018\n",
      "Testing k=10, λ=0.05, β=8, lr=0.01, epochs=30\n",
      "  → RMSE: 0.9075 ± 0.0018\n",
      "Testing k=10, λ=0.05, β=8, lr=0.01, epochs=30\n",
      "  → RMSE: 0.8994 ± 0.0016\n",
      "Testing k=10, λ=0.05, β=12, lr=0.002, epochs=20\n",
      "  → RMSE: 0.8994 ± 0.0016\n",
      "Testing k=10, λ=0.05, β=12, lr=0.002, epochs=20\n",
      "  → RMSE: 1.0764 ± 0.0022\n",
      "Testing k=10, λ=0.05, β=12, lr=0.002, epochs=30\n",
      "  → RMSE: 1.0764 ± 0.0022\n",
      "Testing k=10, λ=0.05, β=12, lr=0.002, epochs=30\n",
      "  → RMSE: 1.0062 ± 0.0017\n",
      "Testing k=10, λ=0.05, β=12, lr=0.005, epochs=20\n",
      "  → RMSE: 1.0062 ± 0.0017\n",
      "Testing k=10, λ=0.05, β=12, lr=0.005, epochs=20\n",
      "  → RMSE: 0.9460 ± 0.0017\n",
      "Testing k=10, λ=0.05, β=12, lr=0.005, epochs=30\n",
      "  → RMSE: 0.9460 ± 0.0017\n",
      "Testing k=10, λ=0.05, β=12, lr=0.005, epochs=30\n",
      "  → RMSE: 0.9181 ± 0.0017\n",
      "Testing k=10, λ=0.05, β=12, lr=0.01, epochs=20\n",
      "  → RMSE: 0.9181 ± 0.0017\n",
      "Testing k=10, λ=0.05, β=12, lr=0.01, epochs=20\n",
      "  → RMSE: 0.9075 ± 0.0018\n",
      "Testing k=10, λ=0.05, β=12, lr=0.01, epochs=30\n",
      "  → RMSE: 0.9075 ± 0.0018\n",
      "Testing k=10, λ=0.05, β=12, lr=0.01, epochs=30\n",
      "  → RMSE: 0.8994 ± 0.0016\n",
      "Testing k=10, λ=0.05, β=16, lr=0.002, epochs=20\n",
      "  → RMSE: 0.8994 ± 0.0016\n",
      "Testing k=10, λ=0.05, β=16, lr=0.002, epochs=20\n",
      "  → RMSE: 1.0764 ± 0.0022\n",
      "Testing k=10, λ=0.05, β=16, lr=0.002, epochs=30\n",
      "  → RMSE: 1.0764 ± 0.0022\n",
      "Testing k=10, λ=0.05, β=16, lr=0.002, epochs=30\n",
      "  → RMSE: 1.0062 ± 0.0017\n",
      "Testing k=10, λ=0.05, β=16, lr=0.005, epochs=20\n",
      "  → RMSE: 1.0062 ± 0.0017\n",
      "Testing k=10, λ=0.05, β=16, lr=0.005, epochs=20\n",
      "  → RMSE: 0.9460 ± 0.0017\n",
      "Testing k=10, λ=0.05, β=16, lr=0.005, epochs=30\n",
      "  → RMSE: 0.9460 ± 0.0017\n",
      "Testing k=10, λ=0.05, β=16, lr=0.005, epochs=30\n",
      "  → RMSE: 0.9181 ± 0.0017\n",
      "Testing k=10, λ=0.05, β=16, lr=0.01, epochs=20\n",
      "  → RMSE: 0.9181 ± 0.0017\n",
      "Testing k=10, λ=0.05, β=16, lr=0.01, epochs=20\n",
      "  → RMSE: 0.9075 ± 0.0018\n",
      "Testing k=10, λ=0.05, β=16, lr=0.01, epochs=30\n",
      "  → RMSE: 0.9075 ± 0.0018\n",
      "Testing k=10, λ=0.05, β=16, lr=0.01, epochs=30\n",
      "  → RMSE: 0.8994 ± 0.0016\n",
      "Testing k=10, λ=0.1, β=8, lr=0.002, epochs=20\n",
      "  → RMSE: 0.8994 ± 0.0016\n",
      "Testing k=10, λ=0.1, β=8, lr=0.002, epochs=20\n",
      "  → RMSE: 1.0941 ± 0.0021\n",
      "Testing k=10, λ=0.1, β=8, lr=0.002, epochs=30\n",
      "  → RMSE: 1.0941 ± 0.0021\n",
      "Testing k=10, λ=0.1, β=8, lr=0.002, epochs=30\n",
      "  → RMSE: 1.0256 ± 0.0017\n",
      "Testing k=10, λ=0.1, β=8, lr=0.005, epochs=20\n",
      "  → RMSE: 1.0256 ± 0.0017\n",
      "Testing k=10, λ=0.1, β=8, lr=0.005, epochs=20\n",
      "  → RMSE: 0.9653 ± 0.0017\n",
      "Testing k=10, λ=0.1, β=8, lr=0.005, epochs=30\n",
      "  → RMSE: 0.9653 ± 0.0017\n",
      "Testing k=10, λ=0.1, β=8, lr=0.005, epochs=30\n",
      "  → RMSE: 0.9399 ± 0.0016\n",
      "Testing k=10, λ=0.1, β=8, lr=0.01, epochs=20\n",
      "  → RMSE: 0.9399 ± 0.0016\n",
      "Testing k=10, λ=0.1, β=8, lr=0.01, epochs=20\n",
      "  → RMSE: 0.9267 ± 0.0017\n",
      "Testing k=10, λ=0.1, β=8, lr=0.01, epochs=30\n",
      "  → RMSE: 0.9267 ± 0.0017\n",
      "Testing k=10, λ=0.1, β=8, lr=0.01, epochs=30\n",
      "  → RMSE: 0.9197 ± 0.0017\n",
      "Testing k=10, λ=0.1, β=12, lr=0.002, epochs=20\n",
      "  → RMSE: 0.9197 ± 0.0017\n",
      "Testing k=10, λ=0.1, β=12, lr=0.002, epochs=20\n",
      "  → RMSE: 1.0941 ± 0.0021\n",
      "Testing k=10, λ=0.1, β=12, lr=0.002, epochs=30\n",
      "  → RMSE: 1.0941 ± 0.0021\n",
      "Testing k=10, λ=0.1, β=12, lr=0.002, epochs=30\n",
      "  → RMSE: 1.0256 ± 0.0017\n",
      "Testing k=10, λ=0.1, β=12, lr=0.005, epochs=20\n",
      "  → RMSE: 1.0256 ± 0.0017\n",
      "Testing k=10, λ=0.1, β=12, lr=0.005, epochs=20\n",
      "  → RMSE: 0.9652 ± 0.0017\n",
      "Testing k=10, λ=0.1, β=12, lr=0.005, epochs=30\n",
      "  → RMSE: 0.9652 ± 0.0017\n",
      "Testing k=10, λ=0.1, β=12, lr=0.005, epochs=30\n",
      "  → RMSE: 0.9399 ± 0.0016\n",
      "Testing k=10, λ=0.1, β=12, lr=0.01, epochs=20\n",
      "  → RMSE: 0.9399 ± 0.0016\n",
      "Testing k=10, λ=0.1, β=12, lr=0.01, epochs=20\n",
      "  → RMSE: 0.9267 ± 0.0017\n",
      "Testing k=10, λ=0.1, β=12, lr=0.01, epochs=30\n",
      "  → RMSE: 0.9267 ± 0.0017\n",
      "Testing k=10, λ=0.1, β=12, lr=0.01, epochs=30\n",
      "  → RMSE: 0.9197 ± 0.0017\n",
      "Testing k=10, λ=0.1, β=16, lr=0.002, epochs=20\n",
      "  → RMSE: 0.9197 ± 0.0017\n",
      "Testing k=10, λ=0.1, β=16, lr=0.002, epochs=20\n",
      "  → RMSE: 1.0941 ± 0.0021\n",
      "Testing k=10, λ=0.1, β=16, lr=0.002, epochs=30\n",
      "  → RMSE: 1.0941 ± 0.0021\n",
      "Testing k=10, λ=0.1, β=16, lr=0.002, epochs=30\n",
      "  → RMSE: 1.0256 ± 0.0017\n",
      "Testing k=10, λ=0.1, β=16, lr=0.005, epochs=20\n",
      "  → RMSE: 1.0256 ± 0.0017\n",
      "Testing k=10, λ=0.1, β=16, lr=0.005, epochs=20\n",
      "  → RMSE: 0.9652 ± 0.0017\n",
      "Testing k=10, λ=0.1, β=16, lr=0.005, epochs=30\n",
      "  → RMSE: 0.9652 ± 0.0017\n",
      "Testing k=10, λ=0.1, β=16, lr=0.005, epochs=30\n",
      "  → RMSE: 0.9399 ± 0.0016\n",
      "Testing k=10, λ=0.1, β=16, lr=0.01, epochs=20\n",
      "  → RMSE: 0.9399 ± 0.0016\n",
      "Testing k=10, λ=0.1, β=16, lr=0.01, epochs=20\n",
      "  → RMSE: 0.9267 ± 0.0018\n",
      "Testing k=10, λ=0.1, β=16, lr=0.01, epochs=30\n",
      "  → RMSE: 0.9267 ± 0.0018\n",
      "Testing k=10, λ=0.1, β=16, lr=0.01, epochs=30\n",
      "  → RMSE: 0.9197 ± 0.0017\n",
      "Testing k=10, λ=0.2, β=8, lr=0.002, epochs=20\n",
      "  → RMSE: 0.9197 ± 0.0017\n",
      "Testing k=10, λ=0.2, β=8, lr=0.002, epochs=20\n",
      "  → RMSE: 1.1482 ± 0.0018\n",
      "Testing k=10, λ=0.2, β=8, lr=0.002, epochs=30\n",
      "  → RMSE: 1.1482 ± 0.0018\n",
      "Testing k=10, λ=0.2, β=8, lr=0.002, epochs=30\n",
      "  → RMSE: 1.0838 ± 0.0015\n",
      "Testing k=10, λ=0.2, β=8, lr=0.005, epochs=20\n",
      "  → RMSE: 1.0838 ± 0.0015\n",
      "Testing k=10, λ=0.2, β=8, lr=0.005, epochs=20\n",
      "  → RMSE: 1.0227 ± 0.0016\n",
      "Testing k=10, λ=0.2, β=8, lr=0.005, epochs=30\n",
      "  → RMSE: 1.0227 ± 0.0016\n",
      "Testing k=10, λ=0.2, β=8, lr=0.005, epochs=30\n",
      "  → RMSE: 0.9992 ± 0.0016\n",
      "Testing k=10, λ=0.2, β=8, lr=0.01, epochs=20\n",
      "  → RMSE: 0.9992 ± 0.0016\n",
      "Testing k=10, λ=0.2, β=8, lr=0.01, epochs=20\n",
      "  → RMSE: 0.9804 ± 0.0017\n",
      "Testing k=10, λ=0.2, β=8, lr=0.01, epochs=30\n",
      "  → RMSE: 0.9804 ± 0.0017\n",
      "Testing k=10, λ=0.2, β=8, lr=0.01, epochs=30\n",
      "  → RMSE: 0.9718 ± 0.0017\n",
      "Testing k=10, λ=0.2, β=12, lr=0.002, epochs=20\n",
      "  → RMSE: 0.9718 ± 0.0017\n",
      "Testing k=10, λ=0.2, β=12, lr=0.002, epochs=20\n",
      "  → RMSE: 1.1482 ± 0.0018\n",
      "Testing k=10, λ=0.2, β=12, lr=0.002, epochs=30\n",
      "  → RMSE: 1.1482 ± 0.0018\n",
      "Testing k=10, λ=0.2, β=12, lr=0.002, epochs=30\n",
      "  → RMSE: 1.0837 ± 0.0015\n",
      "Testing k=10, λ=0.2, β=12, lr=0.005, epochs=20\n",
      "  → RMSE: 1.0837 ± 0.0015\n",
      "Testing k=10, λ=0.2, β=12, lr=0.005, epochs=20\n",
      "  → RMSE: 1.0227 ± 0.0016\n",
      "Testing k=10, λ=0.2, β=12, lr=0.005, epochs=30\n",
      "  → RMSE: 1.0227 ± 0.0016\n",
      "Testing k=10, λ=0.2, β=12, lr=0.005, epochs=30\n",
      "  → RMSE: 0.9992 ± 0.0016\n",
      "Testing k=10, λ=0.2, β=12, lr=0.01, epochs=20\n",
      "  → RMSE: 0.9992 ± 0.0016\n",
      "Testing k=10, λ=0.2, β=12, lr=0.01, epochs=20\n",
      "  → RMSE: 0.9804 ± 0.0017\n",
      "Testing k=10, λ=0.2, β=12, lr=0.01, epochs=30\n",
      "  → RMSE: 0.9804 ± 0.0017\n",
      "Testing k=10, λ=0.2, β=12, lr=0.01, epochs=30\n",
      "  → RMSE: 0.9718 ± 0.0017\n",
      "Testing k=10, λ=0.2, β=16, lr=0.002, epochs=20\n",
      "  → RMSE: 0.9718 ± 0.0017\n",
      "Testing k=10, λ=0.2, β=16, lr=0.002, epochs=20\n",
      "  → RMSE: 1.1482 ± 0.0018\n",
      "Testing k=10, λ=0.2, β=16, lr=0.002, epochs=30\n",
      "  → RMSE: 1.1482 ± 0.0018\n",
      "Testing k=10, λ=0.2, β=16, lr=0.002, epochs=30\n",
      "  → RMSE: 1.0837 ± 0.0015\n",
      "Testing k=10, λ=0.2, β=16, lr=0.005, epochs=20\n",
      "  → RMSE: 1.0837 ± 0.0015\n",
      "Testing k=10, λ=0.2, β=16, lr=0.005, epochs=20\n",
      "  → RMSE: 1.0227 ± 0.0016\n",
      "Testing k=10, λ=0.2, β=16, lr=0.005, epochs=30\n",
      "  → RMSE: 1.0227 ± 0.0016\n",
      "Testing k=10, λ=0.2, β=16, lr=0.005, epochs=30\n",
      "  → RMSE: 0.9992 ± 0.0016\n",
      "Testing k=10, λ=0.2, β=16, lr=0.01, epochs=20\n",
      "  → RMSE: 0.9992 ± 0.0016\n",
      "Testing k=10, λ=0.2, β=16, lr=0.01, epochs=20\n",
      "  → RMSE: 0.9804 ± 0.0017\n",
      "Testing k=10, λ=0.2, β=16, lr=0.01, epochs=30\n",
      "  → RMSE: 0.9804 ± 0.0017\n",
      "Testing k=10, λ=0.2, β=16, lr=0.01, epochs=30\n",
      "  → RMSE: 0.9718 ± 0.0017\n",
      "Testing k=20, λ=0.05, β=8, lr=0.002, epochs=20\n",
      "  → RMSE: 0.9718 ± 0.0017\n",
      "Testing k=20, λ=0.05, β=8, lr=0.002, epochs=20\n",
      "  → RMSE: 1.0770 ± 0.0021\n",
      "Testing k=20, λ=0.05, β=8, lr=0.002, epochs=30\n",
      "  → RMSE: 1.0770 ± 0.0021\n",
      "Testing k=20, λ=0.05, β=8, lr=0.002, epochs=30\n",
      "  → RMSE: 1.0067 ± 0.0017\n",
      "Testing k=20, λ=0.05, β=8, lr=0.005, epochs=20\n",
      "  → RMSE: 1.0067 ± 0.0017\n",
      "Testing k=20, λ=0.05, β=8, lr=0.005, epochs=20\n",
      "  → RMSE: 0.9464 ± 0.0017\n",
      "Testing k=20, λ=0.05, β=8, lr=0.005, epochs=30\n",
      "  → RMSE: 0.9464 ± 0.0017\n",
      "Testing k=20, λ=0.05, β=8, lr=0.005, epochs=30\n",
      "  → RMSE: 0.9184 ± 0.0017\n",
      "Testing k=20, λ=0.05, β=8, lr=0.01, epochs=20\n",
      "  → RMSE: 0.9184 ± 0.0017\n",
      "Testing k=20, λ=0.05, β=8, lr=0.01, epochs=20\n",
      "  → RMSE: 0.9078 ± 0.0018\n",
      "Testing k=20, λ=0.05, β=8, lr=0.01, epochs=30\n",
      "  → RMSE: 0.9078 ± 0.0018\n",
      "Testing k=20, λ=0.05, β=8, lr=0.01, epochs=30\n",
      "  → RMSE: 0.8996 ± 0.0017\n",
      "Testing k=20, λ=0.05, β=12, lr=0.002, epochs=20\n",
      "  → RMSE: 0.8996 ± 0.0017\n",
      "Testing k=20, λ=0.05, β=12, lr=0.002, epochs=20\n",
      "  → RMSE: 1.0770 ± 0.0021\n",
      "Testing k=20, λ=0.05, β=12, lr=0.002, epochs=30\n",
      "  → RMSE: 1.0770 ± 0.0021\n",
      "Testing k=20, λ=0.05, β=12, lr=0.002, epochs=30\n",
      "  → RMSE: 1.0067 ± 0.0017\n",
      "Testing k=20, λ=0.05, β=12, lr=0.005, epochs=20\n",
      "  → RMSE: 1.0067 ± 0.0017\n",
      "Testing k=20, λ=0.05, β=12, lr=0.005, epochs=20\n",
      "  → RMSE: 0.9464 ± 0.0017\n",
      "Testing k=20, λ=0.05, β=12, lr=0.005, epochs=30\n",
      "  → RMSE: 0.9464 ± 0.0017\n",
      "Testing k=20, λ=0.05, β=12, lr=0.005, epochs=30\n",
      "  → RMSE: 0.9184 ± 0.0017\n",
      "Testing k=20, λ=0.05, β=12, lr=0.01, epochs=20\n",
      "  → RMSE: 0.9184 ± 0.0017\n",
      "Testing k=20, λ=0.05, β=12, lr=0.01, epochs=20\n",
      "  → RMSE: 0.9078 ± 0.0018\n",
      "Testing k=20, λ=0.05, β=12, lr=0.01, epochs=30\n",
      "  → RMSE: 0.9078 ± 0.0018\n",
      "Testing k=20, λ=0.05, β=12, lr=0.01, epochs=30\n",
      "  → RMSE: 0.8996 ± 0.0017\n",
      "Testing k=20, λ=0.05, β=16, lr=0.002, epochs=20\n",
      "  → RMSE: 0.8996 ± 0.0017\n",
      "Testing k=20, λ=0.05, β=16, lr=0.002, epochs=20\n",
      "  → RMSE: 1.0769 ± 0.0022\n",
      "Testing k=20, λ=0.05, β=16, lr=0.002, epochs=30\n",
      "  → RMSE: 1.0769 ± 0.0022\n",
      "Testing k=20, λ=0.05, β=16, lr=0.002, epochs=30\n",
      "  → RMSE: 1.0067 ± 0.0017\n",
      "Testing k=20, λ=0.05, β=16, lr=0.005, epochs=20\n",
      "  → RMSE: 1.0067 ± 0.0017\n",
      "Testing k=20, λ=0.05, β=16, lr=0.005, epochs=20\n",
      "  → RMSE: 0.9464 ± 0.0017\n",
      "Testing k=20, λ=0.05, β=16, lr=0.005, epochs=30\n",
      "  → RMSE: 0.9464 ± 0.0017\n",
      "Testing k=20, λ=0.05, β=16, lr=0.005, epochs=30\n",
      "  → RMSE: 0.9184 ± 0.0017\n",
      "Testing k=20, λ=0.05, β=16, lr=0.01, epochs=20\n",
      "  → RMSE: 0.9184 ± 0.0017\n",
      "Testing k=20, λ=0.05, β=16, lr=0.01, epochs=20\n",
      "  → RMSE: 0.9078 ± 0.0018\n",
      "Testing k=20, λ=0.05, β=16, lr=0.01, epochs=30\n",
      "  → RMSE: 0.9078 ± 0.0018\n",
      "Testing k=20, λ=0.05, β=16, lr=0.01, epochs=30\n",
      "  → RMSE: 0.8996 ± 0.0017\n",
      "Testing k=20, λ=0.1, β=8, lr=0.002, epochs=20\n",
      "  → RMSE: 0.8996 ± 0.0017\n",
      "Testing k=20, λ=0.1, β=8, lr=0.002, epochs=20\n",
      "  → RMSE: 1.0946 ± 0.0020\n",
      "Testing k=20, λ=0.1, β=8, lr=0.002, epochs=30\n",
      "  → RMSE: 1.0946 ± 0.0020\n",
      "Testing k=20, λ=0.1, β=8, lr=0.002, epochs=30\n",
      "  → RMSE: 1.0261 ± 0.0016\n",
      "Testing k=20, λ=0.1, β=8, lr=0.005, epochs=20\n",
      "  → RMSE: 1.0261 ± 0.0016\n",
      "Testing k=20, λ=0.1, β=8, lr=0.005, epochs=20\n",
      "  → RMSE: 0.9657 ± 0.0017\n",
      "Testing k=20, λ=0.1, β=8, lr=0.005, epochs=30\n",
      "  → RMSE: 0.9657 ± 0.0017\n",
      "Testing k=20, λ=0.1, β=8, lr=0.005, epochs=30\n",
      "  → RMSE: 0.9402 ± 0.0016\n",
      "Testing k=20, λ=0.1, β=8, lr=0.01, epochs=20\n",
      "  → RMSE: 0.9402 ± 0.0016\n",
      "Testing k=20, λ=0.1, β=8, lr=0.01, epochs=20\n",
      "  → RMSE: 0.9270 ± 0.0018\n",
      "Testing k=20, λ=0.1, β=8, lr=0.01, epochs=30\n",
      "  → RMSE: 0.9270 ± 0.0018\n",
      "Testing k=20, λ=0.1, β=8, lr=0.01, epochs=30\n",
      "  → RMSE: 0.9199 ± 0.0017\n",
      "Testing k=20, λ=0.1, β=12, lr=0.002, epochs=20\n",
      "  → RMSE: 0.9199 ± 0.0017\n",
      "Testing k=20, λ=0.1, β=12, lr=0.002, epochs=20\n",
      "  → RMSE: 1.0946 ± 0.0020\n",
      "Testing k=20, λ=0.1, β=12, lr=0.002, epochs=30\n",
      "  → RMSE: 1.0946 ± 0.0020\n",
      "Testing k=20, λ=0.1, β=12, lr=0.002, epochs=30\n",
      "  → RMSE: 1.0261 ± 0.0016\n",
      "Testing k=20, λ=0.1, β=12, lr=0.005, epochs=20\n",
      "  → RMSE: 1.0261 ± 0.0016\n",
      "Testing k=20, λ=0.1, β=12, lr=0.005, epochs=20\n",
      "  → RMSE: 0.9656 ± 0.0017\n",
      "Testing k=20, λ=0.1, β=12, lr=0.005, epochs=30\n",
      "  → RMSE: 0.9656 ± 0.0017\n",
      "Testing k=20, λ=0.1, β=12, lr=0.005, epochs=30\n",
      "  → RMSE: 0.9402 ± 0.0016\n",
      "Testing k=20, λ=0.1, β=12, lr=0.01, epochs=20\n",
      "  → RMSE: 0.9402 ± 0.0016\n",
      "Testing k=20, λ=0.1, β=12, lr=0.01, epochs=20\n",
      "  → RMSE: 0.9270 ± 0.0018\n",
      "Testing k=20, λ=0.1, β=12, lr=0.01, epochs=30\n",
      "  → RMSE: 0.9270 ± 0.0018\n",
      "Testing k=20, λ=0.1, β=12, lr=0.01, epochs=30\n",
      "  → RMSE: 0.9199 ± 0.0017\n",
      "Testing k=20, λ=0.1, β=16, lr=0.002, epochs=20\n",
      "  → RMSE: 0.9199 ± 0.0017\n",
      "Testing k=20, λ=0.1, β=16, lr=0.002, epochs=20\n",
      "  → RMSE: 1.0946 ± 0.0020\n",
      "Testing k=20, λ=0.1, β=16, lr=0.002, epochs=30\n",
      "  → RMSE: 1.0946 ± 0.0020\n",
      "Testing k=20, λ=0.1, β=16, lr=0.002, epochs=30\n",
      "  → RMSE: 1.0261 ± 0.0017\n",
      "Testing k=20, λ=0.1, β=16, lr=0.005, epochs=20\n",
      "  → RMSE: 1.0261 ± 0.0017\n",
      "Testing k=20, λ=0.1, β=16, lr=0.005, epochs=20\n",
      "  → RMSE: 0.9656 ± 0.0017\n",
      "Testing k=20, λ=0.1, β=16, lr=0.005, epochs=30\n",
      "  → RMSE: 0.9656 ± 0.0017\n",
      "Testing k=20, λ=0.1, β=16, lr=0.005, epochs=30\n",
      "  → RMSE: 0.9402 ± 0.0016\n",
      "Testing k=20, λ=0.1, β=16, lr=0.01, epochs=20\n",
      "  → RMSE: 0.9402 ± 0.0016\n",
      "Testing k=20, λ=0.1, β=16, lr=0.01, epochs=20\n",
      "  → RMSE: 0.9270 ± 0.0018\n",
      "Testing k=20, λ=0.1, β=16, lr=0.01, epochs=30\n",
      "  → RMSE: 0.9270 ± 0.0018\n",
      "Testing k=20, λ=0.1, β=16, lr=0.01, epochs=30\n",
      "  → RMSE: 0.9199 ± 0.0017\n",
      "Testing k=20, λ=0.2, β=8, lr=0.002, epochs=20\n",
      "  → RMSE: 0.9199 ± 0.0017\n",
      "Testing k=20, λ=0.2, β=8, lr=0.002, epochs=20\n",
      "  → RMSE: 1.1488 ± 0.0018\n",
      "Testing k=20, λ=0.2, β=8, lr=0.002, epochs=30\n",
      "  → RMSE: 1.1488 ± 0.0018\n",
      "Testing k=20, λ=0.2, β=8, lr=0.002, epochs=30\n",
      "  → RMSE: 1.0842 ± 0.0015\n",
      "Testing k=20, λ=0.2, β=8, lr=0.005, epochs=20\n",
      "  → RMSE: 1.0842 ± 0.0015\n",
      "Testing k=20, λ=0.2, β=8, lr=0.005, epochs=20\n",
      "  → RMSE: 1.0231 ± 0.0016\n",
      "Testing k=20, λ=0.2, β=8, lr=0.005, epochs=30\n",
      "  → RMSE: 1.0231 ± 0.0016\n",
      "Testing k=20, λ=0.2, β=8, lr=0.005, epochs=30\n",
      "  → RMSE: 0.9995 ± 0.0016\n",
      "Testing k=20, λ=0.2, β=8, lr=0.01, epochs=20\n",
      "  → RMSE: 0.9995 ± 0.0016\n",
      "Testing k=20, λ=0.2, β=8, lr=0.01, epochs=20\n",
      "  → RMSE: 0.9806 ± 0.0017\n",
      "Testing k=20, λ=0.2, β=8, lr=0.01, epochs=30\n",
      "  → RMSE: 0.9806 ± 0.0017\n",
      "Testing k=20, λ=0.2, β=8, lr=0.01, epochs=30\n",
      "  → RMSE: 0.9720 ± 0.0017\n",
      "Testing k=20, λ=0.2, β=12, lr=0.002, epochs=20\n",
      "  → RMSE: 0.9720 ± 0.0017\n",
      "Testing k=20, λ=0.2, β=12, lr=0.002, epochs=20\n",
      "  → RMSE: 1.1487 ± 0.0018\n",
      "Testing k=20, λ=0.2, β=12, lr=0.002, epochs=30\n",
      "  → RMSE: 1.1487 ± 0.0018\n",
      "Testing k=20, λ=0.2, β=12, lr=0.002, epochs=30\n",
      "  → RMSE: 1.0842 ± 0.0015\n",
      "Testing k=20, λ=0.2, β=12, lr=0.005, epochs=20\n",
      "  → RMSE: 1.0842 ± 0.0015\n",
      "Testing k=20, λ=0.2, β=12, lr=0.005, epochs=20\n",
      "  → RMSE: 1.0230 ± 0.0016\n",
      "Testing k=20, λ=0.2, β=12, lr=0.005, epochs=30\n",
      "  → RMSE: 1.0230 ± 0.0016\n",
      "Testing k=20, λ=0.2, β=12, lr=0.005, epochs=30\n",
      "  → RMSE: 0.9995 ± 0.0016\n",
      "Testing k=20, λ=0.2, β=12, lr=0.01, epochs=20\n",
      "  → RMSE: 0.9995 ± 0.0016\n",
      "Testing k=20, λ=0.2, β=12, lr=0.01, epochs=20\n",
      "  → RMSE: 0.9806 ± 0.0017\n",
      "Testing k=20, λ=0.2, β=12, lr=0.01, epochs=30\n",
      "  → RMSE: 0.9806 ± 0.0017\n",
      "Testing k=20, λ=0.2, β=12, lr=0.01, epochs=30\n",
      "  → RMSE: 0.9720 ± 0.0017\n",
      "Testing k=20, λ=0.2, β=16, lr=0.002, epochs=20\n",
      "  → RMSE: 0.9720 ± 0.0017\n",
      "Testing k=20, λ=0.2, β=16, lr=0.002, epochs=20\n",
      "  → RMSE: 1.1487 ± 0.0018\n",
      "Testing k=20, λ=0.2, β=16, lr=0.002, epochs=30\n",
      "  → RMSE: 1.1487 ± 0.0018\n",
      "Testing k=20, λ=0.2, β=16, lr=0.002, epochs=30\n",
      "  → RMSE: 1.0842 ± 0.0015\n",
      "Testing k=20, λ=0.2, β=16, lr=0.005, epochs=20\n",
      "  → RMSE: 1.0842 ± 0.0015\n",
      "Testing k=20, λ=0.2, β=16, lr=0.005, epochs=20\n",
      "  → RMSE: 1.0230 ± 0.0016\n",
      "Testing k=20, λ=0.2, β=16, lr=0.005, epochs=30\n",
      "  → RMSE: 1.0230 ± 0.0016\n",
      "Testing k=20, λ=0.2, β=16, lr=0.005, epochs=30\n",
      "  → RMSE: 0.9994 ± 0.0016\n",
      "Testing k=20, λ=0.2, β=16, lr=0.01, epochs=20\n",
      "  → RMSE: 0.9994 ± 0.0016\n",
      "Testing k=20, λ=0.2, β=16, lr=0.01, epochs=20\n",
      "  → RMSE: 0.9806 ± 0.0017\n",
      "Testing k=20, λ=0.2, β=16, lr=0.01, epochs=30\n",
      "  → RMSE: 0.9806 ± 0.0017\n",
      "Testing k=20, λ=0.2, β=16, lr=0.01, epochs=30\n",
      "  → RMSE: 0.9720 ± 0.0017\n",
      "\n",
      "===== Hyperparameter Tuning Results =====\n",
      "    k  lambda_reg  beta_reg    lr  epochs  mean_rmse  std_rmse\n",
      "0   5        0.05         8  0.01      30   0.899186  0.001673\n",
      "1   5        0.05        12  0.01      30   0.899189  0.001672\n",
      "2   5        0.05        16  0.01      30   0.899191  0.001671\n",
      "3  10        0.05        12  0.01      30   0.899357  0.001632\n",
      "4  10        0.05        16  0.01      30   0.899357  0.001633\n",
      "5  10        0.05         8  0.01      30   0.899358  0.001630\n",
      "6  20        0.05        16  0.01      30   0.899564  0.001663\n",
      "7  20        0.05        12  0.01      30   0.899567  0.001662\n",
      "8  20        0.05         8  0.01      30   0.899575  0.001661\n",
      "9   5        0.05         8  0.01      20   0.907298  0.001822\n",
      "\n",
      "✅ Best configuration:\n",
      "k              5.000000\n",
      "lambda_reg     0.050000\n",
      "beta_reg       8.000000\n",
      "lr             0.010000\n",
      "epochs        30.000000\n",
      "mean_rmse      0.899186\n",
      "std_rmse       0.001673\n",
      "Name: 0, dtype: float64\n",
      "  → RMSE: 0.9720 ± 0.0017\n",
      "\n",
      "===== Hyperparameter Tuning Results =====\n",
      "    k  lambda_reg  beta_reg    lr  epochs  mean_rmse  std_rmse\n",
      "0   5        0.05         8  0.01      30   0.899186  0.001673\n",
      "1   5        0.05        12  0.01      30   0.899189  0.001672\n",
      "2   5        0.05        16  0.01      30   0.899191  0.001671\n",
      "3  10        0.05        12  0.01      30   0.899357  0.001632\n",
      "4  10        0.05        16  0.01      30   0.899357  0.001633\n",
      "5  10        0.05         8  0.01      30   0.899358  0.001630\n",
      "6  20        0.05        16  0.01      30   0.899564  0.001663\n",
      "7  20        0.05        12  0.01      30   0.899567  0.001662\n",
      "8  20        0.05         8  0.01      30   0.899575  0.001661\n",
      "9   5        0.05         8  0.01      20   0.907298  0.001822\n",
      "\n",
      "✅ Best configuration:\n",
      "k              5.000000\n",
      "lambda_reg     0.050000\n",
      "beta_reg       8.000000\n",
      "lr             0.010000\n",
      "epochs        30.000000\n",
      "mean_rmse      0.899186\n",
      "std_rmse       0.001673\n",
      "Name: 0, dtype: float64\n"
     ]
    },
    {
     "data": {
      "image/png": "[encoded data removed]",
      "text/plain": [
       "<Figure size 1200x500 with 5 Axes>"
      ]
     },
     "metadata": {},
     "output_type": "display_data"
    }
   ],
   "source": [
    "import numpy as np\n",
    "import itertools\n",
    "import pandas as pd\n",
    "import matplotlib.pyplot as plt\n",
    "from userreg import UserReg\n",
    "\n",
    "\n",
    "# ---------- Load & Combine ----------\n",
    "R_train = np.load(\"data/ratings_train.npy\")\n",
    "R_test = np.load(\"data/ratings_test.npy\")\n",
    "R = np.where(~np.isnan(R_train), R_train, R_test)\n",
    "print(f\"Combined dataset shape: {R.shape} (users × items)\")\n",
    "\n",
    "\n",
    "# ---------- Helpers ----------\n",
    "def train_test_split_random(R, test_ratio=0.2, seed=42):\n",
    "    np.random.seed(seed)\n",
    "    idx = np.argwhere(~np.isnan(R))\n",
    "    n_total = len(idx)\n",
    "    n_test = int(n_total * test_ratio)\n",
    "    perm = np.random.permutation(n_total)\n",
    "    test_idx = idx[perm[:n_test]]\n",
    "    train_idx = idx[perm[n_test:]]\n",
    "    R_train = np.full_like(R, np.nan)\n",
    "    R_test = np.full_like(R, np.nan)\n",
    "    R_train[tuple(train_idx.T)] = R[tuple(train_idx.T)]\n",
    "    R_test[tuple(test_idx.T)] = R[tuple(test_idx.T)]\n",
    "    return R_train, R_test\n",
    "\n",
    "\n",
    "def generate_kfold_splits(R, k=3, test_ratio=0.3):\n",
    "    return [train_test_split_random(R, test_ratio=test_ratio, seed=i) for i in range(k)]\n",
    "\n",
    "\n",
    "def evaluate_model(R, k_folds=3, **params):\n",
    "    splits = generate_kfold_splits(R, k=k_folds, test_ratio=0.3)\n",
    "    rmses = []\n",
    "    for (R_tr, R_te) in splits:\n",
    "        model = UserReg(verbose=False, **params)\n",
    "        model.fit(R_tr)\n",
    "        preds = model.predict()\n",
    "        mask = ~np.isnan(R_te)\n",
    "        true, pred = R_te[mask], preds[mask]\n",
    "        rmse = np.sqrt(np.mean((true - pred) ** 2))\n",
    "        rmses.append(rmse)\n",
    "    return np.mean(rmses), np.std(rmses)\n",
    "\n",
    "\n",
    "# ---------- Define hyperparameter grid ----------\n",
    "param_grid = {\n",
    "    \"k\": [5, 10, 20],\n",
    "    \"lambda_reg\": [0.05, 0.1, 0.2],\n",
    "    \"beta_reg\": [ 8, 12, 16],\n",
    "    \"lr\": [0.002, 0.005, 0.01],\n",
    "    \"num_iterations\": [20, 30]\n",
    "}\n",
    "k_folds = 3  # 3-fold for speed\n",
    "\n",
    "# Generate all combinations\n",
    "grid_combos = list(itertools.product(\n",
    "    param_grid[\"k\"],\n",
    "    param_grid[\"lambda_reg\"],\n",
    "    param_grid[\"beta_reg\"],\n",
    "    param_grid[\"lr\"],\n",
    "    param_grid[\"num_iterations\"]\n",
    "))\n",
    "\n",
    "print(f\"Total combinations: {len(grid_combos)}\")\n",
    "\n",
    "\n",
    "# ---------- Run grid search ----------\n",
    "results = []\n",
    "for (k_lat, lam, beta, lr, epochs) in grid_combos:\n",
    "    print(f\"Testing k={k_lat}, λ={lam}, β={beta}, lr={lr}, epochs={epochs}\")\n",
    "    mean_rmse, std_rmse = evaluate_model(\n",
    "        R,\n",
    "        k_folds=k_folds,\n",
    "        k=k_lat,\n",
    "        lr=lr,\n",
    "        lambda_reg=lam,\n",
    "        beta_reg=beta,\n",
    "        num_iterations=epochs\n",
    "    )\n",
    "    results.append({\n",
    "        \"k\": k_lat,\n",
    "        \"lambda_reg\": lam,\n",
    "        \"beta_reg\": beta,\n",
    "        \"lr\": lr,\n",
    "        \"epochs\": epochs,\n",
    "        \"mean_rmse\": mean_rmse,\n",
    "        \"std_rmse\": std_rmse\n",
    "    })\n",
    "    print(f\"  → RMSE: {mean_rmse:.4f} ± {std_rmse:.4f}\")\n",
    "\n",
    "\n",
    "# ---------- Display and visualize ----------\n",
    "df = pd.DataFrame(results).sort_values(by=\"mean_rmse\").reset_index(drop=True)\n",
    "print(\"\\n===== Hyperparameter Tuning Results =====\")\n",
    "print(df.head(10))\n",
    "\n",
    "best = df.iloc[0]\n",
    "print(\"\\n✅ Best configuration:\")\n",
    "print(best)\n",
    "\n",
    "# --- Visualization (RMSE vs single hyperparameter trends) ---\n",
    "plt.figure(figsize=(12, 5))\n",
    "for param in [\"k\", \"lambda_reg\", \"beta_reg\", \"lr\", \"epochs\"]:\n",
    "    plt.subplot(1, 5, [\"k\", \"lambda_reg\", \"beta_reg\", \"lr\", \"epochs\"].index(param) + 1)\n",
    "    plt.scatter(df[param], df[\"mean_rmse\"], alpha=0.7)\n",
    "    plt.xlabel(param)\n",
    "    plt.ylabel(\"RMSE\" if param == \"k\" else \"\")\n",
    "    plt.title(param)\n",
    "plt.tight_layout()\n",
    "plt.show()\n"
   ]
  },
  {
   "cell_type": "markdown",
   "id": "cca0125f",
   "metadata": {},
   "source": [
    "## Grid search with global random split (not per-user)\n",
    "This section re-runs hyperparameter search using a global, entry-wise random split of observed ratings into train/test, repeated across k folds for robustness."
   ]
  },
  {
   "cell_type": "code",
   "execution_count": null,
   "id": "3d0afed6",
   "metadata": {},
   "outputs": [],
   "source": [
    "import numpy as np\n",
    "import itertools\n",
    "import pandas as pd\n",
    "from userreg import UserReg\n",
    "\n",
    "# --- Load combined observed ratings ---\n",
    "R_train = np.load(\"data/ratings_train.npy\")\n",
    "R_test = np.load(\"data/ratings_test.npy\")\n",
    "R = np.where(~np.isnan(R_train), R_train, R_test)\n",
    "print(f\"Combined dataset shape: {R.shape} (users × items)\")\n",
    "\n",
    "# --- Global random entry-wise split ---\n",
    "def train_test_split_random(R, test_ratio=0.2, seed=42):\n",
    "    rng = np.random.default_rng(seed)\n",
    "    obs = np.argwhere(~np.isnan(R))\n",
    "    n_total = len(obs)\n",
    "    n_test = int(n_total * test_ratio)\n",
    "    perm = rng.permutation(n_total)\n",
    "    test_idx = obs[perm[:n_test]]\n",
    "    train_idx = obs[perm[n_test:]]\n",
    "    R_train = np.full_like(R, np.nan)\n",
    "    R_test = np.full_like(R, np.nan)\n",
    "    R_train[tuple(train_idx.T)] = R[tuple(train_idx.T)]\n",
    "    R_test[tuple(test_idx.T)] = R[tuple(test_idx.T)]\n",
    "    return R_train, R_test\n",
    "\n",
    "# --- K folds built from independent random splits ---\n",
    "def generate_kfold_splits(R, k=3, test_ratio=0.2):\n",
    "    return [train_test_split_random(R, test_ratio=test_ratio, seed=i) for i in range(k)]\n",
    "\n",
    "# --- Evaluation for a single config ---\n",
    "def evaluate_model(R, k_folds=3, **params):\n",
    "    splits = generate_kfold_splits(R, k=k_folds, test_ratio=0.2)\n",
    "    rmses = []\n",
    "    for (R_tr, R_te) in splits:\n",
    "        model = UserReg(verbose=False, **params)\n",
    "        model.fit(R_tr)\n",
    "        preds = model.predict()\n",
    "        mask = ~np.isnan(R_te)\n",
    "        true, pred = R_te[mask], preds[mask]\n",
    "        rmse = np.sqrt(np.mean((true - pred) ** 2))\n",
    "        rmses.append(rmse)\n",
    "    return float(np.mean(rmses)), float(np.std(rmses))\n",
    "\n",
    "# --- Hyperparameter grid ---\n",
    "param_grid = {\n",
    "    \"k\": [5, 10, 20],\n",
    "    \"lambda_reg\": [0.05, 0.1, 0.2],\n",
    "    \"beta_reg\": [8, 12, 16],\n",
    "    \"lr\": [0.002, 0.005, 0.01],\n",
    "    \"num_iterations\": [20, 30],\n",
    "}\n",
    "\n",
    "# Cartesian product of grid\n",
    "grid_combos = list(itertools.product(\n",
    "    param_grid[\"k\"],\n",
    "    param_grid[\"lambda_reg\"],\n",
    "    param_grid[\"beta_reg\"],\n",
    "    param_grid[\"lr\"],\n",
    "    param_grid[\"num_iterations\"],\n",
    "))\n",
    "print(f\"Total combinations: {len(grid_combos)}\")\n",
    "\n",
    "# --- Grid search ---\n",
    "results = []\n",
    "for (k_lat, lam, beta, lr, epochs) in grid_combos:\n",
    "    print(f\"Testing k={k_lat}, λ={lam}, β={beta}, lr={lr}, epochs={epochs}\")\n",
    "    mean_rmse, std_rmse = evaluate_model(\n",
    "        R,\n",
    "        k_folds=3,\n",
    "        k=k_lat,\n",
    "        lr=lr,\n",
    "        lambda_reg=lam,\n",
    "        beta_reg=beta,\n",
    "        num_iterations=epochs,\n",
    "    )\n",
    "    results.append({\n",
    "        \"k\": k_lat,\n",
    "        \"lambda_reg\": lam,\n",
    "        \"beta_reg\": beta,\n",
    "        \"lr\": lr,\n",
    "        \"epochs\": epochs,\n",
    "        \"mean_rmse\": mean_rmse,\n",
    "        \"std_rmse\": std_rmse,\n",
    "    })\n",
    "    print(f\"  → RMSE: {mean_rmse:.4f} ± {std_rmse:.4f}\")\n",
    "\n",
    "# --- Display results ---\n",
    "df = pd.DataFrame(results).sort_values(by=\"mean_rmse\").reset_index(drop=True)\n",
    "print(\"\\n===== Global random-split Grid Search Results =====\")\n",
    "print(df.head(10))\n",
    "print(\"\\nBest:\")\n",
    "print(df.iloc[0])"
   ]
  }
 ],
 "metadata": {
  "kernelspec": {
   "display_name": "datascience_lab_1",
   "language": "python",
   "name": "python3"
  },
  "language_info": {
   "codemirror_mode": {
    "name": "ipython",
    "version": 3
   },
   "file_extension": ".py",
   "mimetype": "text/x-python",
   "name": "python",
   "nbconvert_exporter": "python",
   "pygments_lexer": "ipython3",
   "version": "3.12.3"
  }
 },
 "nbformat": 4,
 "nbformat_minor": 5
}
