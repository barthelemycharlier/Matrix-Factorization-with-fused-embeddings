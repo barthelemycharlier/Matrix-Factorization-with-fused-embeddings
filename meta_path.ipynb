{
 "cells": [
  {
   "cell_type": "code",
   "execution_count": null,
   "id": "2b9296cb",
   "metadata": {},
   "outputs": [],
   "source": [
    "import numpy as np\n",
    "\n",
    "# ---------- Combine Train/Test ----------\n",
    "R_train = np.load(\"data/ratings_train.npy\")\n",
    "R_test = np.load(\"data/ratings_test.npy\")\n",
    "\n",
    "\n",
    "R_combined = np.where(~np.isnan(R_train), R_train, R_test)\n",
    "print(f\"Combined dataset shape: {R_combined.shape} (users × items)\")\n",
    "\n",
    "R_combined[:5]"
   ]
  }
 ],
 "metadata": {
  "kernelspec": {
   "display_name": "Python 3",
   "language": "python",
   "name": "python3"
  },
  "language_info": {
   "codemirror_mode": {
    "name": "ipython",
    "version": 3
   },
   "file_extension": ".py",
   "mimetype": "text/x-python",
   "name": "python",
   "nbconvert_exporter": "python",
   "pygments_lexer": "ipython3",
   "version": "3.13.8"
  }
 },
 "nbformat": 4,
 "nbformat_minor": 5
}
